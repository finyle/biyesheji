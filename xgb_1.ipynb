{
 "cells": [
  {
   "cell_type": "code",
   "execution_count": 1,
   "metadata": {},
   "outputs": [
    {
     "name": "stderr",
     "output_type": "stream",
     "text": [
      "/home/lin/anaconda3/envs/boost/lib/python3.7/site-packages/ipykernel_launcher.py:11: SettingWithCopyWarning: \n",
      "A value is trying to be set on a copy of a slice from a DataFrame.\n",
      "Try using .loc[row_indexer,col_indexer] = value instead\n",
      "\n",
      "See the caveats in the documentation: http://pandas.pydata.org/pandas-docs/stable/indexing.html#indexing-view-versus-copy\n",
      "  # This is added back by InteractiveShellApp.init_path()\n"
     ]
    }
   ],
   "source": [
    "import numpy as np\n",
    "import pandas as pd\n",
    "#import matplotlib.pyplot as plt\n",
    "\n",
    "all_data = pd.read_csv('sales所在周次节假日.csv')\n",
    "all_data.rename(columns={'店铺名称':'store','地理位置指数':'position','年份':'years','周次':'weeks of year','是否包含法定节假日':'Isholiday','季节':'season','大类':'item','销量':'sales','均价':'prices','促销':'discount'},inplace=True)\n",
    "all_data['weeks'] = all_data['weeks of year']\n",
    "a = all_data\n",
    "week_5 = a.loc[lambda a : a['years'] == 2015]\n",
    "week_6 = a.loc[lambda a : a['years'] == 2016]\n",
    "week_6['weeks'] += 53\n",
    "a = pd.concat([week_5,week_6])\n",
    "\n",
    "from sklearn import preprocessing\n",
    "\n",
    "#map店铺名称\n",
    "name = a['store']\n",
    "le = preprocessing.LabelEncoder()\n",
    "le.fit(name)\n",
    "list(name)\n",
    "le.transform(name)\n",
    "tmp = le.transform(name)\n",
    "a['store'] = tmp\n",
    "\n",
    "#map合并大类\n",
    "category = a['item']\n",
    "le.fit(category)\n",
    "list(category)\n",
    "le.transform(category)\n",
    "tmp = le.transform(category)\n",
    "a['item'] = tmp\n",
    "\n",
    "#map季节\n",
    "season = a['season']\n",
    "le.fit(season)\n",
    "list(season)\n",
    "le.transform(season)\n",
    "tmp = le.transform(season)\n",
    "a['season'] = tmp\n",
    "\n"
   ]
  },
  {
   "cell_type": "code",
   "execution_count": 2,
   "metadata": {},
   "outputs": [
    {
     "name": "stdout",
     "output_type": "stream",
     "text": [
      "Train shape: (8119, 12)\n",
      "Test shape: (340, 12)\n"
     ]
    }
   ],
   "source": [
    "df = a\n",
    "masked_series = (df['years']==2016) & (df['weeks'].isin([53,54,55]))\n",
    "masked_series2 = (df['years']==2016) & (~(df['weeks'].isin([53,54,55])))\n",
    "df.loc[(masked_series), 'train_or_test'] = 'test'\n",
    "df.loc[(masked_series2), 'train_or_test'] = 'no_train'\n",
    "print('Train shape: {}'.format(df.loc[df['years']==2015,:].shape))\n",
    "print('Test shape: {}'.format(df.loc[df.train_or_test=='test',:].shape))\n"
   ]
  },
  {
   "cell_type": "code",
   "execution_count": 3,
   "metadata": {},
   "outputs": [
    {
     "data": {
      "text/html": [
       "<div>\n",
       "<style scoped>\n",
       "    .dataframe tbody tr th:only-of-type {\n",
       "        vertical-align: middle;\n",
       "    }\n",
       "\n",
       "    .dataframe tbody tr th {\n",
       "        vertical-align: top;\n",
       "    }\n",
       "\n",
       "    .dataframe thead th {\n",
       "        text-align: right;\n",
       "    }\n",
       "</style>\n",
       "<table border=\"1\" class=\"dataframe\">\n",
       "  <thead>\n",
       "    <tr style=\"text-align: right;\">\n",
       "      <th></th>\n",
       "      <th>store</th>\n",
       "      <th>position</th>\n",
       "      <th>years</th>\n",
       "      <th>weeks of year</th>\n",
       "      <th>Isholiday</th>\n",
       "      <th>season</th>\n",
       "      <th>item</th>\n",
       "      <th>sales</th>\n",
       "      <th>prices</th>\n",
       "      <th>discount</th>\n",
       "      <th>weeks</th>\n",
       "    </tr>\n",
       "  </thead>\n",
       "  <tbody>\n",
       "    <tr>\n",
       "      <th>4086</th>\n",
       "      <td>6</td>\n",
       "      <td>1</td>\n",
       "      <td>2016</td>\n",
       "      <td>26</td>\n",
       "      <td>0</td>\n",
       "      <td>2</td>\n",
       "      <td>7</td>\n",
       "      <td>4</td>\n",
       "      <td>1.609438</td>\n",
       "      <td>0.373935</td>\n",
       "      <td>79</td>\n",
       "    </tr>\n",
       "    <tr>\n",
       "      <th>2468</th>\n",
       "      <td>4</td>\n",
       "      <td>7</td>\n",
       "      <td>2015</td>\n",
       "      <td>45</td>\n",
       "      <td>0</td>\n",
       "      <td>3</td>\n",
       "      <td>6</td>\n",
       "      <td>20</td>\n",
       "      <td>3.044522</td>\n",
       "      <td>0.429943</td>\n",
       "      <td>45</td>\n",
       "    </tr>\n",
       "  </tbody>\n",
       "</table>\n",
       "</div>"
      ],
      "text/plain": [
       "      store  position  years  weeks of year  Isholiday  season  item  sales  \\\n",
       "4086      6         1   2016             26          0       2     7      4   \n",
       "2468      4         7   2015             45          0       3     6     20   \n",
       "\n",
       "        prices  discount  weeks  \n",
       "4086  1.609438  0.373935     79  \n",
       "2468  3.044522  0.429943     45  "
      ]
     },
     "execution_count": 3,
     "metadata": {},
     "output_type": "execute_result"
    }
   ],
   "source": [
    "df_n = df.drop(['train_or_test'],axis=1)\n",
    "\n",
    "#log sales,prices\n",
    "#df_n['sales'] = np.log1p(df.sales.values)\n",
    "df_n['prices'] = np.log1p(df.sales.values)\n",
    "df_n.sample(2)\n",
    "#df_n = df_n.drop(['prices','discount'],axis=1)"
   ]
  },
  {
   "cell_type": "code",
   "execution_count": 4,
   "metadata": {},
   "outputs": [],
   "source": [
    "train = df_n[lambda df_n: df_n['weeks'] < 54]\n",
    "#train = df_n.sort_values('weeks',ascending='True')\n",
    "#train = train.drop(['prices','discount'],axis=1)\n",
    "y_train = train['sales']"
   ]
  },
  {
   "cell_type": "code",
   "execution_count": 5,
   "metadata": {},
   "outputs": [],
   "source": [
    "#train = df_n[lambda df_n: df_n['years']==2015]\n",
    "#t1 = df_n[lambda df_n: df_n['weeks']==54]\n",
    "#t2 = df_n[lambda df_n: df_n['weeks']==55]\n",
    "#t3 = df_n[lambda df_n: df_n['weeks']==56]\n",
    "#test = pd.concat([t1,t2,t3])\n",
    "\n",
    "#y_train = train['sales']\n",
    "#y_test = test['sales']\n",
    "#X_train = train.drop('sales', axis=1)\n",
    "#X_test = test.drop('sales', axis=1)"
   ]
  },
  {
   "cell_type": "code",
   "execution_count": 6,
   "metadata": {},
   "outputs": [],
   "source": [
    "from sklearn.linear_model import ElasticNet, Lasso,  BayesianRidge, LassoLarsIC\n",
    "from sklearn.ensemble import RandomForestRegressor,  GradientBoostingRegressor\n",
    "from sklearn.kernel_ridge import KernelRidge\n",
    "from sklearn.pipeline import make_pipeline\n",
    "from sklearn.preprocessing import RobustScaler\n",
    "from sklearn.base import BaseEstimator, TransformerMixin, RegressorMixin, clone\n",
    "from sklearn.model_selection import KFold, cross_val_score, train_test_split\n",
    "from sklearn.metrics import mean_squared_error,r2_score\n",
    "import xgboost as xgb\n",
    "import lightgbm as lgb"
   ]
  },
  {
   "cell_type": "code",
   "execution_count": 7,
   "metadata": {},
   "outputs": [],
   "source": [
    "#Validation function\n",
    "n_folds = 3\n",
    "\n",
    "def rmsle_cv(model):\n",
    "    kf = KFold(n_folds).get_n_splits(train.values)\n",
    "    rmse= np.sqrt(-cross_val_score(model, train.values, y_train, scoring=\"neg_mean_squared_error\", cv = kf))\n",
    "    return(rmse)"
   ]
  },
  {
   "cell_type": "code",
   "execution_count": 8,
   "metadata": {},
   "outputs": [],
   "source": [
    "lasso = make_pipeline(RobustScaler(), Lasso(alpha =0.0005, random_state=1))\n",
    "ENet = make_pipeline(RobustScaler(), ElasticNet(alpha=0.0005, l1_ratio=.9, random_state=3))\n",
    "KRR = KernelRidge(alpha=0.6, kernel='polynomial', degree=2, coef0=2.5)\n",
    "GBoost = GradientBoostingRegressor(n_estimators=3000, learning_rate=0.05,\n",
    "                                   max_depth=4, max_features='sqrt',\n",
    "                                   min_samples_leaf=15, min_samples_split=10, \n",
    "                                   loss='huber', random_state =5)\n",
    "model_xgb = xgb.XGBRegressor(colsample_bytree=0.4603, gamma=0.0468, \n",
    "                             learning_rate=0.05, max_depth=3, \n",
    "                             min_child_weight=1.7817, n_estimators=2200,\n",
    "                             reg_alpha=0.4640, reg_lambda=0.8571,\n",
    "                             subsample=0.5213, silent=1,\n",
    "                             random_state =7, nthread = -1)\n",
    "model_lgb = lgb.LGBMRegressor(n_jobs = -1)\n"
   ]
  },
  {
   "cell_type": "code",
   "execution_count": 9,
   "metadata": {},
   "outputs": [
    {
     "name": "stdout",
     "output_type": "stream",
     "text": [
      "\n",
      "Lasso score: 0.0003 (0.0003)\n",
      "\n",
      "ElasticNet score: 0.0004 (0.0004)\n",
      "\n",
      "Xgboost score: 7.4984 (9.7318)\n",
      "\n",
      "LGBM score: 11.9890 (8.0823)\n",
      "\n"
     ]
    }
   ],
   "source": [
    "score = rmsle_cv(lasso)\n",
    "print(\"\\nLasso score: {:.4f} ({:.4f})\\n\".format(score.mean(), score.std()))\n",
    "score = rmsle_cv(ENet)\n",
    "print(\"ElasticNet score: {:.4f} ({:.4f})\\n\".format(score.mean(), score.std()))\n",
    "#score = rmsle_cv(KRR)\n",
    "#print(\"Kernel Ridge score: {:.4f} ({:.4f})\\n\".format(score.mean(), score.std()))\n",
    "#score = rmsle_cv(GBoost)\n",
    "#print(\"Gradient Boosting score: {:.4f} ({:.4f})\\n\".format(score.mean(), score.std()))\n",
    "score = rmsle_cv(model_xgb)\n",
    "print(\"Xgboost score: {:.4f} ({:.4f})\\n\".format(score.mean(), score.std()))\n",
    "score = rmsle_cv(model_lgb)\n",
    "print(\"LGBM score: {:.4f} ({:.4f})\\n\" .format(score.mean(), score.std()))"
   ]
  },
  {
   "cell_type": "code",
   "execution_count": 32,
   "metadata": {},
   "outputs": [],
   "source": [
    "df_test = df_n[lambda df_n: df_n['weeks'] > 53]\n",
    "df_test_1 = df_test[lambda df_n: df_n['weeks'] <67]\n",
    "df_test_2_ = df_test[lambda df_n: df_n['weeks'] <79]\n",
    "df_test_2 = df_test_2_[lambda df_n: df_n['weeks'] >67]\n",
    "df_test_3_ = df_test[lambda df_n: df_n['weeks'] <92]\n",
    "df_test_3 = df_test_3_[lambda df_n: df_n['weeks'] >79]\n",
    "df_test_4 = df_test[lambda df_n: df_n['weeks'] >92]"
   ]
  },
  {
   "cell_type": "code",
   "execution_count": 33,
   "metadata": {},
   "outputs": [],
   "source": [
    "df_train = df_n[lambda df_n: df_n['weeks'] < 53]\n",
    "df_train_1 = df_train[lambda df_n: df_n['weeks'] <14]\n",
    "df_train_2_ = df_train[lambda df_n: df_n['weeks'] <27]\n",
    "df_train_2 = df_train_2_[lambda df_n: df_n['weeks'] >14]\n",
    "df_train_3_ = df_train[lambda df_n: df_n['weeks'] <40]\n",
    "df_train_3 = df_train_3_[lambda df_n: df_n['weeks'] >27]\n",
    "df_train_4 = df_train[lambda df_n: df_n['weeks'] >40]"
   ]
  },
  {
   "cell_type": "code",
   "execution_count": 96,
   "metadata": {
    "scrolled": true
   },
   "outputs": [],
   "source": [
    "df_test_0_x = df_test.drop(['sales'],axis=1)\n",
    "df_test_0_y = df_test['sales']\n",
    "df_test_1_x = df_test_1.drop(['sales'],axis=1)\n",
    "df_test_1_y = df_test_1['sales']\n",
    "df_test_2_x = df_test_2.drop(['sales'],axis=1)\n",
    "df_test_2_y = df_test_2['sales']\n",
    "df_test_3_x = df_test_3.drop(['sales'],axis=1)\n",
    "df_test_3_y = df_test_3['sales']\n",
    "df_test_4_x = df_test_4.drop(['sales'],axis=1)\n",
    "df_test_4_y = df_test_4['sales']\n",
    "\n",
    "df_train_0_x = df_train.drop(['sales'],axis=1)\n",
    "df_train_0_y = df_train['sales']\n",
    "df_train_1_x = df_train_1.drop(['sales'],axis=1)\n",
    "df_train_1_y = df_train_1['sales']\n",
    "df_train_2_x = df_train_2.drop(['sales'],axis=1)\n",
    "df_train_2_y = df_train_2['sales']\n",
    "df_train_3_x = df_train_3.drop(['sales'],axis=1)\n",
    "df_train_3_y = df_train_3['sales']\n",
    "df_train_4_x = df_train_4.drop(['sales'],axis=1)\n",
    "df_train_4_y = df_train_4['sales']"
   ]
  },
  {
   "cell_type": "code",
   "execution_count": 97,
   "metadata": {},
   "outputs": [],
   "source": [
    "def rmse_test(model):\n",
    "    model = model.fit(df_train_0_x,df_train_0_y)\n",
    "    y_pred = model.predict(df_test_1_x)\n",
    "    print('The rmse of prediction is:', mean_squared_error(df_test_1_y, y_pred_1) ** 0.5)\n",
    "    print('The R^2 of prediction is:', r2_score(df_test_1_y, y_pred_1))\n"
   ]
  },
  {
   "cell_type": "code",
   "execution_count": 98,
   "metadata": {},
   "outputs": [
    {
     "name": "stdout",
     "output_type": "stream",
     "text": [
      "The rmse of prediction is: 0.4637341911668404\n",
      "The R^2 of prediction is: 0.9989833033786261\n"
     ]
    }
   ],
   "source": [
    "#rmse_test(model_lgb)\n",
    "rmse_test(model_xgb)\n",
    "#rmse_test(lasso)"
   ]
  },
  {
   "cell_type": "markdown",
   "metadata": {},
   "source": [
    "# 第一次迭代"
   ]
  },
  {
   "cell_type": "code",
   "execution_count": 109,
   "metadata": {},
   "outputs": [],
   "source": [
    "#去头，尾变\n",
    "model_xgb.fit(df_train_0_x,df_train_0_y)\n",
    "y_pred_1 = pd.DataFrame(model_xgb.predict(df_test_1_x))"
   ]
  },
  {
   "cell_type": "code",
   "execution_count": 113,
   "metadata": {},
   "outputs": [],
   "source": [
    "train_ite_1_x = pd.concat([df_train_2_x,df_train_3_x,df_train_4_x,df_test_1_x])\n",
    "train_ite_1_y = pd.concat([df_train_2_y,df_train_3_y,df_train_4_y,y_pred_1])"
   ]
  },
  {
   "cell_type": "code",
   "execution_count": 117,
   "metadata": {},
   "outputs": [
    {
     "name": "stdout",
     "output_type": "stream",
     "text": [
      "The rmse of prediction is: 0.8631597239585626\n",
      "The R^2 of prediction is: 0.991872196124549\n"
     ]
    }
   ],
   "source": [
    "def rmse_test(model):\n",
    "    model = model.fit(train_ite_1_x,train_ite_1_y)\n",
    "    y_pred_2 = model.predict(df_test_2_x)\n",
    "    print('The rmse of prediction is:', mean_squared_error(df_test_2_y, y_pred_2) ** 0.5)\n",
    "    print('The R^2 of prediction is:', r2_score(df_test_2_y, y_pred_2))\n",
    "\n",
    "#rmse_test(model_lgb)    \n",
    "rmse_test(model_xgb)\n",
    "#rmse_test(model_lasso)"
   ]
  },
  {
   "cell_type": "code",
   "execution_count": 122,
   "metadata": {},
   "outputs": [
    {
     "name": "stdout",
     "output_type": "stream",
     "text": [
      "The rmse of prediction is: 0.8386044408829846\n",
      "The R^2 of prediction is: 0.9923280600226732\n"
     ]
    }
   ],
   "source": [
    "#去头，尾不变\n",
    "train_ite_1_x = pd.concat([df_train_2_x,df_train_3_x,df_train_4_x,df_test_1_x])\n",
    "train_ite_1_y = pd.concat([df_train_2_y,df_train_3_y,df_train_4_y,df_test_1_y])\n",
    "\n",
    "def rmse_test(model):\n",
    "    model = model.fit(train_ite_1_x,train_ite_1_y)\n",
    "    y_pred_2 = model.predict(df_test_2_x)\n",
    "    print('The rmse of prediction is:', mean_squared_error(df_test_2_y, y_pred_2) ** 0.5)\n",
    "    print('The R^2 of prediction is:', r2_score(df_test_2_y, y_pred_2))\n",
    "\n",
    "#rmse_test(model_lgb)    \n",
    "rmse_test(model_xgb)\n",
    "#rmse_test(model_lasso)"
   ]
  },
  {
   "cell_type": "code",
   "execution_count": 125,
   "metadata": {},
   "outputs": [
    {
     "name": "stdout",
     "output_type": "stream",
     "text": [
      "The rmse of prediction is: 0.3423496734122777\n",
      "The R^2 of prediction is: 0.9987214117283061\n"
     ]
    }
   ],
   "source": [
    "#不去头，尾变\n",
    "train_ite_1_x = pd.concat([df_train_1_x,df_train_2_x,df_train_3_x,df_train_4_x,df_test_1_x])\n",
    "train_ite_1_y = pd.concat([df_train_1_y,df_train_2_y,df_train_3_y,df_train_4_y,y_pred_1])\n",
    "\n",
    "def rmse_test(model):\n",
    "    model = model.fit(train_ite_1_x,train_ite_1_y)\n",
    "    y_pred_2 = model.predict(df_test_2_x)\n",
    "    print('The rmse of prediction is:', mean_squared_error(df_test_2_y, y_pred_2) ** 0.5)\n",
    "    print('The R^2 of prediction is:', r2_score(df_test_2_y, y_pred_2))\n",
    "\n",
    "#rmse_test(model_lgb)    \n",
    "rmse_test(model_xgb)\n",
    "#rmse_test(model_lasso)"
   ]
  },
  {
   "cell_type": "code",
   "execution_count": 127,
   "metadata": {},
   "outputs": [
    {
     "name": "stdout",
     "output_type": "stream",
     "text": [
      "The rmse of prediction is: 0.30249766040691445\n",
      "The R^2 of prediction is: 0.999001760109369\n"
     ]
    }
   ],
   "source": [
    "#不去头，尾不变\n",
    "train_ite_1_x = pd.concat([df_train_1_x,df_train_2_x,df_train_3_x,df_train_4_x,df_test_1_x])\n",
    "train_ite_1_y = pd.concat([df_train_1_y,df_train_2_y,df_train_3_y,df_train_4_y,df_test_1_y])\n",
    "\n",
    "def rmse_test(model):\n",
    "    model = model.fit(train_ite_1_x,train_ite_1_y)\n",
    "    y_pred_2 = model.predict(df_test_2_x)\n",
    "    print('The rmse of prediction is:', mean_squared_error(df_test_2_y, y_pred_2) ** 0.5)\n",
    "    print('The R^2 of prediction is:', r2_score(df_test_2_y, y_pred_2))\n",
    "\n",
    "#rmse_test(model_lgb)    \n",
    "rmse_test(model_xgb)\n",
    "#rmse_test(model_lasso)"
   ]
  },
  {
   "cell_type": "markdown",
   "metadata": {},
   "source": [
    "# 第二次迭代"
   ]
  },
  {
   "cell_type": "code",
   "execution_count": 119,
   "metadata": {},
   "outputs": [
    {
     "name": "stdout",
     "output_type": "stream",
     "text": [
      "The rmse of prediction is: 0.6711696774492253\n",
      "The R^2 of prediction is: 0.9953239471710732\n"
     ]
    }
   ],
   "source": [
    "#去头，尾变\n",
    "model_xgb.fit(train_ite_1_x,train_ite_1_y)\n",
    "y_pred_2 = pd.DataFrame(model_xgb.predict(df_test_2_x))\n",
    "\n",
    "train_ite_2_x = pd.concat([df_train_3_x,df_train_4_x,df_test_1_x,df_test_2_x])\n",
    "train_ite_2_y = pd.concat([df_train_3_y,df_train_4_y,df_test_1_y,y_pred_2])\n",
    "\n",
    "def rmse_test(model):\n",
    "    model = model.fit(train_ite_2_x,train_ite_2_y)\n",
    "    y_pred_3 = model.predict(df_test_3_x)\n",
    "    print('The rmse of prediction is:', mean_squared_error(df_test_3_y, y_pred_3) ** 0.5)\n",
    "    print('The R^2 of prediction is:', r2_score(df_test_3_y, y_pred_3))\n",
    "    \n",
    "#rmse_test(model_lgb)    \n",
    "rmse_test(model_xgb)\n",
    "#rmse_test(model_lasso)"
   ]
  },
  {
   "cell_type": "code",
   "execution_count": 123,
   "metadata": {},
   "outputs": [
    {
     "name": "stdout",
     "output_type": "stream",
     "text": [
      "The rmse of prediction is: 0.5458709309224247\n",
      "The R^2 of prediction is: 0.9969068948120442\n"
     ]
    }
   ],
   "source": [
    "#去头，尾不变\n",
    "train_ite_2_x = pd.concat([df_train_3_x,df_train_4_x,df_test_1_x,df_test_2_x])\n",
    "train_ite_2_y = pd.concat([df_train_3_y,df_train_4_y,df_test_1_y,df_test_2_y])\n",
    "\n",
    "def rmse_test(model):\n",
    "    model = model.fit(train_ite_2_x,train_ite_2_y)\n",
    "    y_pred_3 = model.predict(df_test_3_x)\n",
    "    print('The rmse of prediction is:', mean_squared_error(df_test_3_y, y_pred_3) ** 0.5)\n",
    "    print('The R^2 of prediction is:', r2_score(df_test_3_y, y_pred_3))\n",
    "    \n",
    "#rmse_test(model_lgb)    \n",
    "rmse_test(model_xgb)\n",
    "#rmse_test(model_lasso)"
   ]
  },
  {
   "cell_type": "code",
   "execution_count": 128,
   "metadata": {},
   "outputs": [
    {
     "name": "stdout",
     "output_type": "stream",
     "text": [
      "The rmse of prediction is: 0.39084798962453215\n",
      "The R^2 of prediction is: 0.9984142653388901\n"
     ]
    }
   ],
   "source": [
    "#不去头，尾变\n",
    "model_xgb.fit(train_ite_1_x,train_ite_1_y)\n",
    "y_pred_2 = pd.DataFrame(model_xgb.predict(df_test_2_x))\n",
    "\n",
    "train_ite_2_x = pd.concat([df_train_1_x,df_train_2_x,df_train_3_x,df_train_4_x,df_test_1_x,df_test_2_x])\n",
    "train_ite_2_y = pd.concat([df_train_1_y,df_train_2_y,df_train_3_y,df_train_4_y,df_test_1_y,y_pred_2])\n",
    "\n",
    "def rmse_test(model):\n",
    "    model = model.fit(train_ite_2_x,train_ite_2_y)\n",
    "    y_pred_3 = model.predict(df_test_3_x)\n",
    "    print('The rmse of prediction is:', mean_squared_error(df_test_3_y, y_pred_3) ** 0.5)\n",
    "    print('The R^2 of prediction is:', r2_score(df_test_3_y, y_pred_3))\n",
    "    \n",
    "#rmse_test(model_lgb)    \n",
    "rmse_test(model_xgb)\n",
    "#rmse_test(model_lasso)"
   ]
  },
  {
   "cell_type": "code",
   "execution_count": 129,
   "metadata": {},
   "outputs": [
    {
     "name": "stdout",
     "output_type": "stream",
     "text": [
      "The rmse of prediction is: 0.3620684668012812\n",
      "The R^2 of prediction is: 0.9986391941732805\n"
     ]
    }
   ],
   "source": [
    "#不去头，尾不变\n",
    "model_xgb.fit(train_ite_1_x,train_ite_1_y)\n",
    "y_pred_2 = pd.DataFrame(model_xgb.predict(df_test_2_x))\n",
    "\n",
    "train_ite_2_x = pd.concat([df_train_1_x,df_train_2_x,df_train_3_x,df_train_4_x,df_test_1_x,df_test_2_x])\n",
    "train_ite_2_y = pd.concat([df_train_1_y,df_train_2_y,df_train_3_y,df_train_4_y,df_test_1_y,df_test_2_y])\n",
    "\n",
    "def rmse_test(model):\n",
    "    model = model.fit(train_ite_2_x,train_ite_2_y)\n",
    "    y_pred_3 = model.predict(df_test_3_x)\n",
    "    print('The rmse of prediction is:', mean_squared_error(df_test_3_y, y_pred_3) ** 0.5)\n",
    "    print('The R^2 of prediction is:', r2_score(df_test_3_y, y_pred_3))\n",
    "    \n",
    "#rmse_test(model_lgb)    \n",
    "rmse_test(model_xgb)"
   ]
  },
  {
   "cell_type": "markdown",
   "metadata": {},
   "source": [
    "# 第三次迭代"
   ]
  },
  {
   "cell_type": "code",
   "execution_count": 120,
   "metadata": {},
   "outputs": [
    {
     "name": "stdout",
     "output_type": "stream",
     "text": [
      "The rmse of prediction is: 1.098489086285411\n",
      "The R^2 of prediction is: 0.9945023211697112\n"
     ]
    }
   ],
   "source": [
    "#去头，尾变\n",
    "model_xgb.fit(train_ite_2_x,train_ite_2_y)\n",
    "y_pred_3 = pd.DataFrame(model_xgb.predict(df_test_3_x))\n",
    "\n",
    "train_ite_3_x = pd.concat([df_train_4_x,df_test_1_x,df_test_2_x,df_test_3_x])\n",
    "train_ite_3_y = pd.concat([df_train_4_y,df_test_1_y,df_test_2_y,y_pred_3])\n",
    "\n",
    "def rmse_test(model):\n",
    "    model = model.fit(train_ite_3_x,train_ite_3_y)\n",
    "    y_pred_4 = model.predict(df_test_4_x)\n",
    "    print('The rmse of prediction is:', mean_squared_error(df_test_4_y, y_pred_4) ** 0.5)\n",
    "    print('The R^2 of prediction is:', r2_score(df_test_4_y, y_pred_4))\n",
    "    \n",
    "#rmse_test(model_lgb)    \n",
    "rmse_test(model_xgb)\n",
    "#rmse_test(model_lasso)"
   ]
  },
  {
   "cell_type": "code",
   "execution_count": 124,
   "metadata": {},
   "outputs": [
    {
     "name": "stdout",
     "output_type": "stream",
     "text": [
      "The rmse of prediction is: 0.9996616033824921\n",
      "The R^2 of prediction is: 0.9954470393705185\n"
     ]
    }
   ],
   "source": [
    "#去头，尾不变\n",
    "train_ite_3_x = pd.concat([df_train_4_x,df_test_1_x,df_test_2_x,df_test_3_x])\n",
    "train_ite_3_y = pd.concat([df_train_4_y,df_test_1_y,df_test_2_y,df_test_3_y])\n",
    "\n",
    "def rmse_test(model):\n",
    "    model = model.fit(train_ite_3_x,train_ite_3_y)\n",
    "    y_pred_4 = model.predict(df_test_4_x)\n",
    "    print('The rmse of prediction is:', mean_squared_error(df_test_4_y, y_pred_4) ** 0.5)\n",
    "    print('The R^2 of prediction is:', r2_score(df_test_4_y, y_pred_4))\n",
    "    \n",
    "#rmse_test(model_lgb)    \n",
    "rmse_test(model_xgb)\n",
    "#rmse_test(model_lasso)"
   ]
  },
  {
   "cell_type": "code",
   "execution_count": 130,
   "metadata": {},
   "outputs": [
    {
     "name": "stdout",
     "output_type": "stream",
     "text": [
      "The rmse of prediction is: 0.42811028918357225\n",
      "The R^2 of prediction is: 0.9991649755275568\n"
     ]
    }
   ],
   "source": [
    "#不去头，尾变\n",
    "model_xgb.fit(train_ite_2_x,train_ite_2_y)\n",
    "y_pred_3 = pd.DataFrame(model_xgb.predict(df_test_3_x))\n",
    "\n",
    "train_ite_3_x = pd.concat([df_train_1_x,df_train_2_x,df_train_3_x,df_train_4_x,df_test_1_x,df_test_2_x,df_test_3_x])\n",
    "train_ite_3_y = pd.concat([df_train_1_y,df_train_2_y,df_train_3_y,df_train_4_y,df_test_1_y,df_test_2_y,y_pred_3])\n",
    "\n",
    "def rmse_test(model):\n",
    "    model = model.fit(train_ite_3_x,train_ite_3_y)\n",
    "    y_pred_4 = model.predict(df_test_4_x)\n",
    "    print('The rmse of prediction is:', mean_squared_error(df_test_4_y, y_pred_4) ** 0.5)\n",
    "    print('The R^2 of prediction is:', r2_score(df_test_4_y, y_pred_4))\n",
    "    \n",
    "#rmse_test(model_lgb)    \n",
    "rmse_test(model_xgb)\n",
    "#rmse_test(model_lasso)"
   ]
  },
  {
   "cell_type": "code",
   "execution_count": 131,
   "metadata": {},
   "outputs": [
    {
     "name": "stdout",
     "output_type": "stream",
     "text": [
      "The rmse of prediction is: 0.5683778869936248\n",
      "The R^2 of prediction is: 0.9985281545199678\n"
     ]
    }
   ],
   "source": [
    "#不去头，尾不变\n",
    "model_xgb.fit(train_ite_2_x,train_ite_2_y)\n",
    "y_pred_3 = pd.DataFrame(model_xgb.predict(df_test_3_x))\n",
    "\n",
    "train_ite_3_x = pd.concat([df_train_1_x,df_train_2_x,df_train_3_x,df_train_4_x,df_test_1_x,df_test_2_x,df_test_3_x])\n",
    "train_ite_3_y = pd.concat([df_train_1_y,df_train_2_y,df_train_3_y,df_train_4_y,df_test_1_y,df_test_2_y,df_test_3_y])\n",
    "\n",
    "def rmse_test(model):\n",
    "    model = model.fit(train_ite_3_x,train_ite_3_y)\n",
    "    y_pred_4 = model.predict(df_test_4_x)\n",
    "    print('The rmse of prediction is:', mean_squared_error(df_test_4_y, y_pred_4) ** 0.5)\n",
    "    print('The R^2 of prediction is:', r2_score(df_test_4_y, y_pred_4))\n",
    "    \n",
    "#rmse_test(model_lgb)    \n",
    "rmse_test(model_xgb)\n",
    "#rmse_test(model_lasso)"
   ]
  },
  {
   "cell_type": "code",
   "execution_count": null,
   "metadata": {},
   "outputs": [],
   "source": []
  }
 ],
 "metadata": {
  "kernelspec": {
   "display_name": "Python 3",
   "language": "python",
   "name": "python3"
  },
  "language_info": {
   "codemirror_mode": {
    "name": "ipython",
    "version": 3
   },
   "file_extension": ".py",
   "mimetype": "text/x-python",
   "name": "python",
   "nbconvert_exporter": "python",
   "pygments_lexer": "ipython3",
   "version": "3.7.3"
  }
 },
 "nbformat": 4,
 "nbformat_minor": 2
}
