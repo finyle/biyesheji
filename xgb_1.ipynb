{
 "cells": [
  {
   "cell_type": "code",
   "execution_count": 1,
   "metadata": {},
   "outputs": [
    {
     "name": "stderr",
     "output_type": "stream",
     "text": [
      "/home/lin/anaconda3/envs/boost/lib/python3.7/site-packages/ipykernel_launcher.py:11: SettingWithCopyWarning: \n",
      "A value is trying to be set on a copy of a slice from a DataFrame.\n",
      "Try using .loc[row_indexer,col_indexer] = value instead\n",
      "\n",
      "See the caveats in the documentation: http://pandas.pydata.org/pandas-docs/stable/indexing.html#indexing-view-versus-copy\n",
      "  # This is added back by InteractiveShellApp.init_path()\n"
     ]
    }
   ],
   "source": [
    "import numpy as np\n",
    "import pandas as pd\n",
    "#import matplotlib.pyplot as plt\n",
    "\n",
    "all_data = pd.read_csv('sales所在周次节假日_剔除换货.csv')\n",
    "all_data.rename(columns={'店铺名称':'store','地理位置指数':'position','年份':'years','周次':'weeks of year','是否包含法定节假日':'Isholiday','季节':'season','大类':'item','销量(剔除换货）':'sales','均价（剔除换货）':'prices','促销（剔除换货）':'discount'},inplace=True)\n",
    "all_data['weeks'] = all_data['weeks of year']\n",
    "a = all_data\n",
    "week_5 = a.loc[lambda a : a['years'] == 2015]\n",
    "week_6 = a.loc[lambda a : a['years'] == 2016]\n",
    "week_6['weeks'] += 53\n",
    "a = pd.concat([week_5,week_6])\n",
    "\n",
    "from sklearn import preprocessing\n",
    "\n",
    "#map店铺名称\n",
    "name = a['store']\n",
    "le = preprocessing.LabelEncoder()\n",
    "le.fit(name)\n",
    "list(name)\n",
    "le.transform(name)\n",
    "tmp = le.transform(name)\n",
    "a['store'] = tmp\n",
    "\n",
    "#map合并大类\n",
    "category = a['item']\n",
    "le.fit(category)\n",
    "list(category)\n",
    "le.transform(category)\n",
    "tmp = le.transform(category)\n",
    "a['item'] = tmp\n",
    "\n",
    "#map季节\n",
    "season = a['season']\n",
    "le.fit(season)\n",
    "list(season)\n",
    "le.transform(season)\n",
    "tmp = le.transform(season)\n",
    "a['season'] = tmp\n"
   ]
  },
  {
   "cell_type": "code",
   "execution_count": 2,
   "metadata": {},
   "outputs": [
    {
     "name": "stdout",
     "output_type": "stream",
     "text": [
      "Train shape: (8119, 12)\n",
      "Test shape: (340, 12)\n"
     ]
    }
   ],
   "source": [
    "df = a\n",
    "masked_series = (df['years']==2016) & (df['weeks'].isin([53,54,55]))\n",
    "masked_series2 = (df['years']==2016) & (~(df['weeks'].isin([53,54,55])))\n",
    "df.loc[(masked_series), 'train_or_test'] = 'test'\n",
    "df.loc[(masked_series2), 'train_or_test'] = 'no_train'\n",
    "print('Train shape: {}'.format(df.loc[df['years']==2015,:].shape))\n",
    "print('Test shape: {}'.format(df.loc[df.train_or_test=='test',:].shape))\n"
   ]
  },
  {
   "cell_type": "code",
   "execution_count": 3,
   "metadata": {},
   "outputs": [
    {
     "data": {
      "text/html": [
       "<div>\n",
       "<style scoped>\n",
       "    .dataframe tbody tr th:only-of-type {\n",
       "        vertical-align: middle;\n",
       "    }\n",
       "\n",
       "    .dataframe tbody tr th {\n",
       "        vertical-align: top;\n",
       "    }\n",
       "\n",
       "    .dataframe thead th {\n",
       "        text-align: right;\n",
       "    }\n",
       "</style>\n",
       "<table border=\"1\" class=\"dataframe\">\n",
       "  <thead>\n",
       "    <tr style=\"text-align: right;\">\n",
       "      <th></th>\n",
       "      <th>store</th>\n",
       "      <th>position</th>\n",
       "      <th>years</th>\n",
       "      <th>weeks of year</th>\n",
       "      <th>Isholiday</th>\n",
       "      <th>season</th>\n",
       "      <th>item</th>\n",
       "      <th>sales</th>\n",
       "      <th>prices</th>\n",
       "      <th>discount</th>\n",
       "      <th>weeks</th>\n",
       "    </tr>\n",
       "  </thead>\n",
       "  <tbody>\n",
       "    <tr>\n",
       "      <th>10344</th>\n",
       "      <td>17</td>\n",
       "      <td>1</td>\n",
       "      <td>2015</td>\n",
       "      <td>30</td>\n",
       "      <td>0</td>\n",
       "      <td>1</td>\n",
       "      <td>4</td>\n",
       "      <td>1</td>\n",
       "      <td>339.0</td>\n",
       "      <td>0.377086</td>\n",
       "      <td>30</td>\n",
       "    </tr>\n",
       "    <tr>\n",
       "      <th>1607</th>\n",
       "      <td>3</td>\n",
       "      <td>7</td>\n",
       "      <td>2015</td>\n",
       "      <td>4</td>\n",
       "      <td>0</td>\n",
       "      <td>0</td>\n",
       "      <td>9</td>\n",
       "      <td>1</td>\n",
       "      <td>242.0</td>\n",
       "      <td>0.127435</td>\n",
       "      <td>4</td>\n",
       "    </tr>\n",
       "  </tbody>\n",
       "</table>\n",
       "</div>"
      ],
      "text/plain": [
       "       store  position  years  weeks of year  Isholiday  season  item  sales  \\\n",
       "10344     17         1   2015             30          0       1     4      1   \n",
       "1607       3         7   2015              4          0       0     9      1   \n",
       "\n",
       "       prices  discount  weeks  \n",
       "10344   339.0  0.377086     30  \n",
       "1607    242.0  0.127435      4  "
      ]
     },
     "execution_count": 3,
     "metadata": {},
     "output_type": "execute_result"
    }
   ],
   "source": [
    "df_n = df.drop(['train_or_test'],axis=1)\n",
    "\n",
    "#log sales,prices\n",
    "#df_n['sales'] = np.log1p(df.sales.values)\n",
    "#df_n['prices'] = np.log1p(df.sales.values)\n",
    "df_n.sample(2)"
   ]
  },
  {
   "cell_type": "code",
   "execution_count": null,
   "metadata": {},
   "outputs": [],
   "source": []
  },
  {
   "cell_type": "code",
   "execution_count": 4,
   "metadata": {},
   "outputs": [],
   "source": [
    "train = df_n.sort_values('weeks',ascending='True')\n",
    "y_train = df_n['sales']"
   ]
  },
  {
   "cell_type": "code",
   "execution_count": 5,
   "metadata": {},
   "outputs": [],
   "source": [
    "#train = df_n[lambda df_n: df_n['years']==2015]\n",
    "#t1 = df_n[lambda df_n: df_n['weeks']==54]\n",
    "#t2 = df_n[lambda df_n: df_n['weeks']==55]\n",
    "#t3 = df_n[lambda df_n: df_n['weeks']==56]\n",
    "#test = pd.concat([t1,t2,t3])\n",
    "\n",
    "#y_train = train['sales']\n",
    "#y_test = test['sales']\n",
    "#X_train = train.drop('sales', axis=1)\n",
    "#X_test = test.drop('sales', axis=1)"
   ]
  },
  {
   "cell_type": "code",
   "execution_count": 6,
   "metadata": {},
   "outputs": [],
   "source": [
    "from sklearn.linear_model import ElasticNet, Lasso,  BayesianRidge, LassoLarsIC\n",
    "from sklearn.ensemble import RandomForestRegressor,  GradientBoostingRegressor\n",
    "from sklearn.kernel_ridge import KernelRidge\n",
    "from sklearn.pipeline import make_pipeline\n",
    "from sklearn.preprocessing import RobustScaler\n",
    "from sklearn.base import BaseEstimator, TransformerMixin, RegressorMixin, clone\n",
    "from sklearn.model_selection import KFold, cross_val_score, train_test_split\n",
    "from sklearn.metrics import mean_squared_error\n",
    "import xgboost as xgb\n",
    "import lightgbm as lgb"
   ]
  },
  {
   "cell_type": "code",
   "execution_count": 7,
   "metadata": {},
   "outputs": [],
   "source": [
    "#Validation function\n",
    "n_folds = 2\n",
    "\n",
    "def rmsle_cv(model):\n",
    "    kf = KFold(n_folds, shuffle=True, random_state=42).get_n_splits(train.values)\n",
    "    rmse= np.sqrt(-cross_val_score(model, train.values, y_train, scoring=\"neg_mean_squared_error\", cv = kf))\n",
    "    return(rmse)"
   ]
  },
  {
   "cell_type": "code",
   "execution_count": 8,
   "metadata": {},
   "outputs": [],
   "source": [
    "lasso = make_pipeline(RobustScaler(), Lasso(alpha =0.0005, random_state=1))\n",
    "ENet = make_pipeline(RobustScaler(), ElasticNet(alpha=0.0005, l1_ratio=.9, random_state=3))\n",
    "KRR = KernelRidge(alpha=0.6, kernel='polynomial', degree=2, coef0=2.5)\n",
    "GBoost = GradientBoostingRegressor(n_estimators=3000, learning_rate=0.05,\n",
    "                                   max_depth=4, max_features='sqrt',\n",
    "                                   min_samples_leaf=15, min_samples_split=10, \n",
    "                                   loss='huber', random_state =5)\n",
    "model_xgb = xgb.XGBRegressor(colsample_bytree=0.4603, gamma=0.0468, \n",
    "                             learning_rate=0.05, max_depth=3, \n",
    "                             min_child_weight=1.7817, n_estimators=2200,\n",
    "                             reg_alpha=0.4640, reg_lambda=0.8571,\n",
    "                             subsample=0.5213, silent=1,\n",
    "                             random_state =7, nthread = -1)\n",
    "model_lgb = lgb.LGBMRegressor(objective='regression',\n",
    "                              boosting_type = 'gbdt',num_leaves=31,\n",
    "                              learning_rate=0.5, n_estimators=72,\n",
    "                              max_bin = 5, bagging_fraction = 0.8,\n",
    "                              bagging_freq = 5, feature_fraction = 0.9,\n",
    "                              feature_fraction_seed=9, bagging_seed=9,\n",
    "                              min_data_in_leaf =6, min_sum_hessian_in_leaf = 11)\n"
   ]
  },
  {
   "cell_type": "code",
   "execution_count": 9,
   "metadata": {},
   "outputs": [
    {
     "name": "stdout",
     "output_type": "stream",
     "text": [
      "\n",
      "Lasso score: 16.0351 (3.4698)\n",
      "\n"
     ]
    },
    {
     "name": "stderr",
     "output_type": "stream",
     "text": [
      "/home/lin/anaconda3/envs/boost/lib/python3.7/site-packages/sklearn/linear_model/coordinate_descent.py:492: ConvergenceWarning: Objective did not converge. You might want to increase the number of iterations. Fitting data with very small alpha may cause precision problems.\n",
      "  ConvergenceWarning)\n"
     ]
    },
    {
     "name": "stdout",
     "output_type": "stream",
     "text": [
      "ElasticNet score: 16.0338 (3.4684)\n",
      "\n",
      "Xgboost score: 18.3389 (2.3547)\n",
      "\n",
      "LGBM score: 17.7139 (2.6050)\n",
      "\n"
     ]
    }
   ],
   "source": [
    "score = rmsle_cv(lasso)\n",
    "print(\"\\nLasso score: {:.4f} ({:.4f})\\n\".format(score.mean(), score.std()))\n",
    "score = rmsle_cv(ENet)\n",
    "print(\"ElasticNet score: {:.4f} ({:.4f})\\n\".format(score.mean(), score.std()))\n",
    "#score = rmsle_cv(KRR)\n",
    "#print(\"Kernel Ridge score: {:.4f} ({:.4f})\\n\".format(score.mean(), score.std()))\n",
    "#score = rmsle_cv(GBoost)\n",
    "#print(\"Gradient Boosting score: {:.4f} ({:.4f})\\n\".format(score.mean(), score.std()))\n",
    "score = rmsle_cv(model_xgb)\n",
    "print(\"Xgboost score: {:.4f} ({:.4f})\\n\".format(score.mean(), score.std()))\n",
    "score = rmsle_cv(model_lgb)\n",
    "print(\"LGBM score: {:.4f} ({:.4f})\\n\" .format(score.mean(), score.std()))"
   ]
  },
  {
   "cell_type": "code",
   "execution_count": null,
   "metadata": {},
   "outputs": [],
   "source": []
  }
 ],
 "metadata": {
  "kernelspec": {
   "display_name": "Python 3",
   "language": "python",
   "name": "python3"
  },
  "language_info": {
   "codemirror_mode": {
    "name": "ipython",
    "version": 3
   },
   "file_extension": ".py",
   "mimetype": "text/x-python",
   "name": "python",
   "nbconvert_exporter": "python",
   "pygments_lexer": "ipython3",
   "version": "3.7.3"
  }
 },
 "nbformat": 4,
 "nbformat_minor": 2
}
