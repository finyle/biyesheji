{
 "cells": [
  {
   "cell_type": "code",
   "execution_count": 37,
   "metadata": {},
   "outputs": [
    {
     "name": "stderr",
     "output_type": "stream",
     "text": [
      "/home/lin/anaconda3/envs/boost/lib/python3.7/site-packages/ipykernel_launcher.py:11: SettingWithCopyWarning: \n",
      "A value is trying to be set on a copy of a slice from a DataFrame.\n",
      "Try using .loc[row_indexer,col_indexer] = value instead\n",
      "\n",
      "See the caveats in the documentation: http://pandas.pydata.org/pandas-docs/stable/indexing.html#indexing-view-versus-copy\n",
      "  # This is added back by InteractiveShellApp.init_path()\n"
     ]
    },
    {
     "data": {
      "text/html": [
       "<div>\n",
       "<style scoped>\n",
       "    .dataframe tbody tr th:only-of-type {\n",
       "        vertical-align: middle;\n",
       "    }\n",
       "\n",
       "    .dataframe tbody tr th {\n",
       "        vertical-align: top;\n",
       "    }\n",
       "\n",
       "    .dataframe thead th {\n",
       "        text-align: right;\n",
       "    }\n",
       "</style>\n",
       "<table border=\"1\" class=\"dataframe\">\n",
       "  <thead>\n",
       "    <tr style=\"text-align: right;\">\n",
       "      <th></th>\n",
       "      <th>store</th>\n",
       "      <th>position</th>\n",
       "      <th>years</th>\n",
       "      <th>weeks of year</th>\n",
       "      <th>Isholiday</th>\n",
       "      <th>season</th>\n",
       "      <th>item</th>\n",
       "      <th>sales</th>\n",
       "      <th>prices</th>\n",
       "      <th>discount</th>\n",
       "      <th>weeks</th>\n",
       "    </tr>\n",
       "  </thead>\n",
       "  <tbody>\n",
       "    <tr>\n",
       "      <th>0</th>\n",
       "      <td>0</td>\n",
       "      <td>7</td>\n",
       "      <td>2015</td>\n",
       "      <td>1</td>\n",
       "      <td>1</td>\n",
       "      <td>0</td>\n",
       "      <td>1</td>\n",
       "      <td>1</td>\n",
       "      <td>499.666700</td>\n",
       "      <td>0.333333</td>\n",
       "      <td>1</td>\n",
       "    </tr>\n",
       "    <tr>\n",
       "      <th>1</th>\n",
       "      <td>0</td>\n",
       "      <td>7</td>\n",
       "      <td>2015</td>\n",
       "      <td>1</td>\n",
       "      <td>1</td>\n",
       "      <td>0</td>\n",
       "      <td>2</td>\n",
       "      <td>30</td>\n",
       "      <td>513.066663</td>\n",
       "      <td>0.371160</td>\n",
       "      <td>1</td>\n",
       "    </tr>\n",
       "    <tr>\n",
       "      <th>2</th>\n",
       "      <td>0</td>\n",
       "      <td>7</td>\n",
       "      <td>2015</td>\n",
       "      <td>1</td>\n",
       "      <td>1</td>\n",
       "      <td>0</td>\n",
       "      <td>9</td>\n",
       "      <td>2</td>\n",
       "      <td>683.833300</td>\n",
       "      <td>0.325790</td>\n",
       "      <td>1</td>\n",
       "    </tr>\n",
       "    <tr>\n",
       "      <th>3</th>\n",
       "      <td>0</td>\n",
       "      <td>7</td>\n",
       "      <td>2015</td>\n",
       "      <td>1</td>\n",
       "      <td>1</td>\n",
       "      <td>0</td>\n",
       "      <td>10</td>\n",
       "      <td>2</td>\n",
       "      <td>799.600000</td>\n",
       "      <td>0.400000</td>\n",
       "      <td>1</td>\n",
       "    </tr>\n",
       "    <tr>\n",
       "      <th>4</th>\n",
       "      <td>0</td>\n",
       "      <td>7</td>\n",
       "      <td>2015</td>\n",
       "      <td>1</td>\n",
       "      <td>1</td>\n",
       "      <td>2</td>\n",
       "      <td>6</td>\n",
       "      <td>1</td>\n",
       "      <td>375.600000</td>\n",
       "      <td>0.400000</td>\n",
       "      <td>1</td>\n",
       "    </tr>\n",
       "    <tr>\n",
       "      <th>5</th>\n",
       "      <td>0</td>\n",
       "      <td>7</td>\n",
       "      <td>2015</td>\n",
       "      <td>1</td>\n",
       "      <td>1</td>\n",
       "      <td>3</td>\n",
       "      <td>7</td>\n",
       "      <td>2</td>\n",
       "      <td>366.333350</td>\n",
       "      <td>0.333333</td>\n",
       "      <td>1</td>\n",
       "    </tr>\n",
       "    <tr>\n",
       "      <th>6</th>\n",
       "      <td>0</td>\n",
       "      <td>7</td>\n",
       "      <td>2015</td>\n",
       "      <td>2</td>\n",
       "      <td>0</td>\n",
       "      <td>0</td>\n",
       "      <td>1</td>\n",
       "      <td>1</td>\n",
       "      <td>799.000000</td>\n",
       "      <td>0.470277</td>\n",
       "      <td>2</td>\n",
       "    </tr>\n",
       "    <tr>\n",
       "      <th>7</th>\n",
       "      <td>0</td>\n",
       "      <td>7</td>\n",
       "      <td>2015</td>\n",
       "      <td>2</td>\n",
       "      <td>0</td>\n",
       "      <td>0</td>\n",
       "      <td>2</td>\n",
       "      <td>6</td>\n",
       "      <td>645.833333</td>\n",
       "      <td>0.467205</td>\n",
       "      <td>2</td>\n",
       "    </tr>\n",
       "    <tr>\n",
       "      <th>8</th>\n",
       "      <td>0</td>\n",
       "      <td>7</td>\n",
       "      <td>2015</td>\n",
       "      <td>2</td>\n",
       "      <td>0</td>\n",
       "      <td>2</td>\n",
       "      <td>6</td>\n",
       "      <td>1</td>\n",
       "      <td>563.000000</td>\n",
       "      <td>0.599574</td>\n",
       "      <td>2</td>\n",
       "    </tr>\n",
       "    <tr>\n",
       "      <th>9</th>\n",
       "      <td>0</td>\n",
       "      <td>7</td>\n",
       "      <td>2015</td>\n",
       "      <td>2</td>\n",
       "      <td>0</td>\n",
       "      <td>3</td>\n",
       "      <td>6</td>\n",
       "      <td>2</td>\n",
       "      <td>354.000000</td>\n",
       "      <td>0.385201</td>\n",
       "      <td>2</td>\n",
       "    </tr>\n",
       "    <tr>\n",
       "      <th>10</th>\n",
       "      <td>0</td>\n",
       "      <td>7</td>\n",
       "      <td>2015</td>\n",
       "      <td>2</td>\n",
       "      <td>0</td>\n",
       "      <td>3</td>\n",
       "      <td>7</td>\n",
       "      <td>3</td>\n",
       "      <td>392.333333</td>\n",
       "      <td>0.346482</td>\n",
       "      <td>2</td>\n",
       "    </tr>\n",
       "    <tr>\n",
       "      <th>11</th>\n",
       "      <td>0</td>\n",
       "      <td>7</td>\n",
       "      <td>2015</td>\n",
       "      <td>3</td>\n",
       "      <td>0</td>\n",
       "      <td>0</td>\n",
       "      <td>1</td>\n",
       "      <td>1</td>\n",
       "      <td>499.000000</td>\n",
       "      <td>0.312070</td>\n",
       "      <td>3</td>\n",
       "    </tr>\n",
       "    <tr>\n",
       "      <th>12</th>\n",
       "      <td>0</td>\n",
       "      <td>7</td>\n",
       "      <td>2015</td>\n",
       "      <td>3</td>\n",
       "      <td>0</td>\n",
       "      <td>0</td>\n",
       "      <td>2</td>\n",
       "      <td>8</td>\n",
       "      <td>557.000000</td>\n",
       "      <td>0.394616</td>\n",
       "      <td>3</td>\n",
       "    </tr>\n",
       "    <tr>\n",
       "      <th>13</th>\n",
       "      <td>0</td>\n",
       "      <td>7</td>\n",
       "      <td>2015</td>\n",
       "      <td>3</td>\n",
       "      <td>0</td>\n",
       "      <td>0</td>\n",
       "      <td>10</td>\n",
       "      <td>2</td>\n",
       "      <td>800.000000</td>\n",
       "      <td>0.400200</td>\n",
       "      <td>3</td>\n",
       "    </tr>\n",
       "    <tr>\n",
       "      <th>14</th>\n",
       "      <td>0</td>\n",
       "      <td>7</td>\n",
       "      <td>2015</td>\n",
       "      <td>3</td>\n",
       "      <td>0</td>\n",
       "      <td>2</td>\n",
       "      <td>6</td>\n",
       "      <td>3</td>\n",
       "      <td>507.000000</td>\n",
       "      <td>0.534247</td>\n",
       "      <td>3</td>\n",
       "    </tr>\n",
       "    <tr>\n",
       "      <th>15</th>\n",
       "      <td>0</td>\n",
       "      <td>7</td>\n",
       "      <td>2015</td>\n",
       "      <td>3</td>\n",
       "      <td>0</td>\n",
       "      <td>3</td>\n",
       "      <td>6</td>\n",
       "      <td>1</td>\n",
       "      <td>239.000000</td>\n",
       "      <td>0.265851</td>\n",
       "      <td>3</td>\n",
       "    </tr>\n",
       "    <tr>\n",
       "      <th>16</th>\n",
       "      <td>0</td>\n",
       "      <td>7</td>\n",
       "      <td>2015</td>\n",
       "      <td>3</td>\n",
       "      <td>0</td>\n",
       "      <td>3</td>\n",
       "      <td>7</td>\n",
       "      <td>1</td>\n",
       "      <td>399.000000</td>\n",
       "      <td>0.399399</td>\n",
       "      <td>3</td>\n",
       "    </tr>\n",
       "    <tr>\n",
       "      <th>17</th>\n",
       "      <td>0</td>\n",
       "      <td>7</td>\n",
       "      <td>2015</td>\n",
       "      <td>4</td>\n",
       "      <td>0</td>\n",
       "      <td>0</td>\n",
       "      <td>2</td>\n",
       "      <td>19</td>\n",
       "      <td>566.526316</td>\n",
       "      <td>0.401927</td>\n",
       "      <td>4</td>\n",
       "    </tr>\n",
       "    <tr>\n",
       "      <th>18</th>\n",
       "      <td>0</td>\n",
       "      <td>7</td>\n",
       "      <td>2015</td>\n",
       "      <td>4</td>\n",
       "      <td>0</td>\n",
       "      <td>0</td>\n",
       "      <td>10</td>\n",
       "      <td>1</td>\n",
       "      <td>899.000000</td>\n",
       "      <td>0.449725</td>\n",
       "      <td>4</td>\n",
       "    </tr>\n",
       "    <tr>\n",
       "      <th>19</th>\n",
       "      <td>0</td>\n",
       "      <td>7</td>\n",
       "      <td>2015</td>\n",
       "      <td>4</td>\n",
       "      <td>0</td>\n",
       "      <td>2</td>\n",
       "      <td>6</td>\n",
       "      <td>4</td>\n",
       "      <td>473.500000</td>\n",
       "      <td>0.500264</td>\n",
       "      <td>4</td>\n",
       "    </tr>\n",
       "    <tr>\n",
       "      <th>20</th>\n",
       "      <td>0</td>\n",
       "      <td>7</td>\n",
       "      <td>2015</td>\n",
       "      <td>4</td>\n",
       "      <td>0</td>\n",
       "      <td>3</td>\n",
       "      <td>6</td>\n",
       "      <td>2</td>\n",
       "      <td>360.000000</td>\n",
       "      <td>0.400445</td>\n",
       "      <td>4</td>\n",
       "    </tr>\n",
       "    <tr>\n",
       "      <th>21</th>\n",
       "      <td>0</td>\n",
       "      <td>7</td>\n",
       "      <td>2015</td>\n",
       "      <td>4</td>\n",
       "      <td>0</td>\n",
       "      <td>3</td>\n",
       "      <td>7</td>\n",
       "      <td>3</td>\n",
       "      <td>423.000000</td>\n",
       "      <td>0.438039</td>\n",
       "      <td>4</td>\n",
       "    </tr>\n",
       "    <tr>\n",
       "      <th>22</th>\n",
       "      <td>0</td>\n",
       "      <td>7</td>\n",
       "      <td>2015</td>\n",
       "      <td>5</td>\n",
       "      <td>0</td>\n",
       "      <td>0</td>\n",
       "      <td>2</td>\n",
       "      <td>16</td>\n",
       "      <td>568.187500</td>\n",
       "      <td>0.404332</td>\n",
       "      <td>5</td>\n",
       "    </tr>\n",
       "    <tr>\n",
       "      <th>23</th>\n",
       "      <td>0</td>\n",
       "      <td>7</td>\n",
       "      <td>2015</td>\n",
       "      <td>5</td>\n",
       "      <td>0</td>\n",
       "      <td>0</td>\n",
       "      <td>10</td>\n",
       "      <td>1</td>\n",
       "      <td>899.000000</td>\n",
       "      <td>0.449725</td>\n",
       "      <td>5</td>\n",
       "    </tr>\n",
       "    <tr>\n",
       "      <th>24</th>\n",
       "      <td>0</td>\n",
       "      <td>7</td>\n",
       "      <td>2015</td>\n",
       "      <td>5</td>\n",
       "      <td>0</td>\n",
       "      <td>2</td>\n",
       "      <td>6</td>\n",
       "      <td>3</td>\n",
       "      <td>468.000000</td>\n",
       "      <td>0.500178</td>\n",
       "      <td>5</td>\n",
       "    </tr>\n",
       "    <tr>\n",
       "      <th>25</th>\n",
       "      <td>0</td>\n",
       "      <td>7</td>\n",
       "      <td>2015</td>\n",
       "      <td>5</td>\n",
       "      <td>0</td>\n",
       "      <td>3</td>\n",
       "      <td>6</td>\n",
       "      <td>2</td>\n",
       "      <td>334.000000</td>\n",
       "      <td>0.371524</td>\n",
       "      <td>5</td>\n",
       "    </tr>\n",
       "    <tr>\n",
       "      <th>26</th>\n",
       "      <td>0</td>\n",
       "      <td>7</td>\n",
       "      <td>2015</td>\n",
       "      <td>5</td>\n",
       "      <td>0</td>\n",
       "      <td>3</td>\n",
       "      <td>7</td>\n",
       "      <td>4</td>\n",
       "      <td>374.750000</td>\n",
       "      <td>0.375125</td>\n",
       "      <td>5</td>\n",
       "    </tr>\n",
       "    <tr>\n",
       "      <th>27</th>\n",
       "      <td>0</td>\n",
       "      <td>7</td>\n",
       "      <td>2015</td>\n",
       "      <td>6</td>\n",
       "      <td>0</td>\n",
       "      <td>0</td>\n",
       "      <td>1</td>\n",
       "      <td>1</td>\n",
       "      <td>639.000000</td>\n",
       "      <td>0.376104</td>\n",
       "      <td>6</td>\n",
       "    </tr>\n",
       "    <tr>\n",
       "      <th>28</th>\n",
       "      <td>0</td>\n",
       "      <td>7</td>\n",
       "      <td>2015</td>\n",
       "      <td>6</td>\n",
       "      <td>0</td>\n",
       "      <td>0</td>\n",
       "      <td>2</td>\n",
       "      <td>30</td>\n",
       "      <td>574.902857</td>\n",
       "      <td>0.394941</td>\n",
       "      <td>6</td>\n",
       "    </tr>\n",
       "    <tr>\n",
       "      <th>29</th>\n",
       "      <td>0</td>\n",
       "      <td>7</td>\n",
       "      <td>2015</td>\n",
       "      <td>6</td>\n",
       "      <td>0</td>\n",
       "      <td>2</td>\n",
       "      <td>6</td>\n",
       "      <td>1</td>\n",
       "      <td>375.600000</td>\n",
       "      <td>0.400000</td>\n",
       "      <td>6</td>\n",
       "    </tr>\n",
       "    <tr>\n",
       "      <th>...</th>\n",
       "      <td>...</td>\n",
       "      <td>...</td>\n",
       "      <td>...</td>\n",
       "      <td>...</td>\n",
       "      <td>...</td>\n",
       "      <td>...</td>\n",
       "      <td>...</td>\n",
       "      <td>...</td>\n",
       "      <td>...</td>\n",
       "      <td>...</td>\n",
       "      <td>...</td>\n",
       "    </tr>\n",
       "    <tr>\n",
       "      <th>18133</th>\n",
       "      <td>29</td>\n",
       "      <td>7</td>\n",
       "      <td>2016</td>\n",
       "      <td>49</td>\n",
       "      <td>0</td>\n",
       "      <td>0</td>\n",
       "      <td>10</td>\n",
       "      <td>6</td>\n",
       "      <td>521.818150</td>\n",
       "      <td>0.263234</td>\n",
       "      <td>102</td>\n",
       "    </tr>\n",
       "    <tr>\n",
       "      <th>18134</th>\n",
       "      <td>29</td>\n",
       "      <td>7</td>\n",
       "      <td>2016</td>\n",
       "      <td>49</td>\n",
       "      <td>0</td>\n",
       "      <td>2</td>\n",
       "      <td>6</td>\n",
       "      <td>44</td>\n",
       "      <td>319.353459</td>\n",
       "      <td>0.340842</td>\n",
       "      <td>102</td>\n",
       "    </tr>\n",
       "    <tr>\n",
       "      <th>18135</th>\n",
       "      <td>29</td>\n",
       "      <td>7</td>\n",
       "      <td>2016</td>\n",
       "      <td>49</td>\n",
       "      <td>0</td>\n",
       "      <td>2</td>\n",
       "      <td>7</td>\n",
       "      <td>5</td>\n",
       "      <td>312.429100</td>\n",
       "      <td>0.322424</td>\n",
       "      <td>102</td>\n",
       "    </tr>\n",
       "    <tr>\n",
       "      <th>18136</th>\n",
       "      <td>29</td>\n",
       "      <td>7</td>\n",
       "      <td>2016</td>\n",
       "      <td>49</td>\n",
       "      <td>0</td>\n",
       "      <td>3</td>\n",
       "      <td>6</td>\n",
       "      <td>12</td>\n",
       "      <td>335.689408</td>\n",
       "      <td>0.349434</td>\n",
       "      <td>102</td>\n",
       "    </tr>\n",
       "    <tr>\n",
       "      <th>18137</th>\n",
       "      <td>29</td>\n",
       "      <td>7</td>\n",
       "      <td>2016</td>\n",
       "      <td>49</td>\n",
       "      <td>0</td>\n",
       "      <td>3</td>\n",
       "      <td>7</td>\n",
       "      <td>36</td>\n",
       "      <td>351.117344</td>\n",
       "      <td>0.305585</td>\n",
       "      <td>102</td>\n",
       "    </tr>\n",
       "    <tr>\n",
       "      <th>18138</th>\n",
       "      <td>29</td>\n",
       "      <td>7</td>\n",
       "      <td>2016</td>\n",
       "      <td>50</td>\n",
       "      <td>0</td>\n",
       "      <td>0</td>\n",
       "      <td>1</td>\n",
       "      <td>1</td>\n",
       "      <td>423.939400</td>\n",
       "      <td>0.303030</td>\n",
       "      <td>103</td>\n",
       "    </tr>\n",
       "    <tr>\n",
       "      <th>18139</th>\n",
       "      <td>29</td>\n",
       "      <td>7</td>\n",
       "      <td>2016</td>\n",
       "      <td>50</td>\n",
       "      <td>0</td>\n",
       "      <td>0</td>\n",
       "      <td>2</td>\n",
       "      <td>7</td>\n",
       "      <td>454.242429</td>\n",
       "      <td>0.303030</td>\n",
       "      <td>103</td>\n",
       "    </tr>\n",
       "    <tr>\n",
       "      <th>18140</th>\n",
       "      <td>29</td>\n",
       "      <td>7</td>\n",
       "      <td>2016</td>\n",
       "      <td>50</td>\n",
       "      <td>0</td>\n",
       "      <td>0</td>\n",
       "      <td>8</td>\n",
       "      <td>6</td>\n",
       "      <td>388.585883</td>\n",
       "      <td>0.303030</td>\n",
       "      <td>103</td>\n",
       "    </tr>\n",
       "    <tr>\n",
       "      <th>18141</th>\n",
       "      <td>29</td>\n",
       "      <td>7</td>\n",
       "      <td>2016</td>\n",
       "      <td>50</td>\n",
       "      <td>0</td>\n",
       "      <td>2</td>\n",
       "      <td>6</td>\n",
       "      <td>12</td>\n",
       "      <td>313.957092</td>\n",
       "      <td>0.335245</td>\n",
       "      <td>103</td>\n",
       "    </tr>\n",
       "    <tr>\n",
       "      <th>18142</th>\n",
       "      <td>29</td>\n",
       "      <td>7</td>\n",
       "      <td>2016</td>\n",
       "      <td>50</td>\n",
       "      <td>0</td>\n",
       "      <td>3</td>\n",
       "      <td>6</td>\n",
       "      <td>3</td>\n",
       "      <td>299.697000</td>\n",
       "      <td>0.303030</td>\n",
       "      <td>103</td>\n",
       "    </tr>\n",
       "    <tr>\n",
       "      <th>18143</th>\n",
       "      <td>29</td>\n",
       "      <td>7</td>\n",
       "      <td>2016</td>\n",
       "      <td>50</td>\n",
       "      <td>0</td>\n",
       "      <td>3</td>\n",
       "      <td>7</td>\n",
       "      <td>3</td>\n",
       "      <td>333.030300</td>\n",
       "      <td>0.303030</td>\n",
       "      <td>103</td>\n",
       "    </tr>\n",
       "    <tr>\n",
       "      <th>18144</th>\n",
       "      <td>29</td>\n",
       "      <td>7</td>\n",
       "      <td>2016</td>\n",
       "      <td>51</td>\n",
       "      <td>0</td>\n",
       "      <td>0</td>\n",
       "      <td>2</td>\n",
       "      <td>5</td>\n",
       "      <td>367.240000</td>\n",
       "      <td>0.238622</td>\n",
       "      <td>104</td>\n",
       "    </tr>\n",
       "    <tr>\n",
       "      <th>18145</th>\n",
       "      <td>29</td>\n",
       "      <td>7</td>\n",
       "      <td>2016</td>\n",
       "      <td>51</td>\n",
       "      <td>0</td>\n",
       "      <td>0</td>\n",
       "      <td>8</td>\n",
       "      <td>2</td>\n",
       "      <td>499.600000</td>\n",
       "      <td>0.400000</td>\n",
       "      <td>104</td>\n",
       "    </tr>\n",
       "    <tr>\n",
       "      <th>18146</th>\n",
       "      <td>29</td>\n",
       "      <td>7</td>\n",
       "      <td>2016</td>\n",
       "      <td>51</td>\n",
       "      <td>0</td>\n",
       "      <td>2</td>\n",
       "      <td>6</td>\n",
       "      <td>5</td>\n",
       "      <td>374.440000</td>\n",
       "      <td>0.402191</td>\n",
       "      <td>104</td>\n",
       "    </tr>\n",
       "    <tr>\n",
       "      <th>18147</th>\n",
       "      <td>29</td>\n",
       "      <td>7</td>\n",
       "      <td>2016</td>\n",
       "      <td>51</td>\n",
       "      <td>0</td>\n",
       "      <td>3</td>\n",
       "      <td>6</td>\n",
       "      <td>3</td>\n",
       "      <td>452.666667</td>\n",
       "      <td>0.478675</td>\n",
       "      <td>104</td>\n",
       "    </tr>\n",
       "    <tr>\n",
       "      <th>18148</th>\n",
       "      <td>29</td>\n",
       "      <td>7</td>\n",
       "      <td>2016</td>\n",
       "      <td>51</td>\n",
       "      <td>0</td>\n",
       "      <td>3</td>\n",
       "      <td>7</td>\n",
       "      <td>1</td>\n",
       "      <td>439.600000</td>\n",
       "      <td>0.400000</td>\n",
       "      <td>104</td>\n",
       "    </tr>\n",
       "    <tr>\n",
       "      <th>18149</th>\n",
       "      <td>29</td>\n",
       "      <td>7</td>\n",
       "      <td>2016</td>\n",
       "      <td>52</td>\n",
       "      <td>0</td>\n",
       "      <td>0</td>\n",
       "      <td>1</td>\n",
       "      <td>1</td>\n",
       "      <td>533.000000</td>\n",
       "      <td>0.333333</td>\n",
       "      <td>105</td>\n",
       "    </tr>\n",
       "    <tr>\n",
       "      <th>18150</th>\n",
       "      <td>29</td>\n",
       "      <td>7</td>\n",
       "      <td>2016</td>\n",
       "      <td>52</td>\n",
       "      <td>0</td>\n",
       "      <td>0</td>\n",
       "      <td>2</td>\n",
       "      <td>12</td>\n",
       "      <td>448.611108</td>\n",
       "      <td>0.294364</td>\n",
       "      <td>105</td>\n",
       "    </tr>\n",
       "    <tr>\n",
       "      <th>18151</th>\n",
       "      <td>29</td>\n",
       "      <td>7</td>\n",
       "      <td>2016</td>\n",
       "      <td>52</td>\n",
       "      <td>0</td>\n",
       "      <td>0</td>\n",
       "      <td>8</td>\n",
       "      <td>4</td>\n",
       "      <td>414.500000</td>\n",
       "      <td>0.319092</td>\n",
       "      <td>105</td>\n",
       "    </tr>\n",
       "    <tr>\n",
       "      <th>18152</th>\n",
       "      <td>29</td>\n",
       "      <td>7</td>\n",
       "      <td>2016</td>\n",
       "      <td>52</td>\n",
       "      <td>0</td>\n",
       "      <td>0</td>\n",
       "      <td>9</td>\n",
       "      <td>1</td>\n",
       "      <td>699.000000</td>\n",
       "      <td>0.279712</td>\n",
       "      <td>105</td>\n",
       "    </tr>\n",
       "    <tr>\n",
       "      <th>18153</th>\n",
       "      <td>29</td>\n",
       "      <td>7</td>\n",
       "      <td>2016</td>\n",
       "      <td>52</td>\n",
       "      <td>0</td>\n",
       "      <td>2</td>\n",
       "      <td>6</td>\n",
       "      <td>9</td>\n",
       "      <td>311.370367</td>\n",
       "      <td>0.333969</td>\n",
       "      <td>105</td>\n",
       "    </tr>\n",
       "    <tr>\n",
       "      <th>18154</th>\n",
       "      <td>29</td>\n",
       "      <td>7</td>\n",
       "      <td>2016</td>\n",
       "      <td>52</td>\n",
       "      <td>0</td>\n",
       "      <td>3</td>\n",
       "      <td>6</td>\n",
       "      <td>1</td>\n",
       "      <td>323.000000</td>\n",
       "      <td>0.333333</td>\n",
       "      <td>105</td>\n",
       "    </tr>\n",
       "    <tr>\n",
       "      <th>18155</th>\n",
       "      <td>29</td>\n",
       "      <td>7</td>\n",
       "      <td>2016</td>\n",
       "      <td>52</td>\n",
       "      <td>0</td>\n",
       "      <td>3</td>\n",
       "      <td>7</td>\n",
       "      <td>12</td>\n",
       "      <td>379.555550</td>\n",
       "      <td>0.318776</td>\n",
       "      <td>105</td>\n",
       "    </tr>\n",
       "    <tr>\n",
       "      <th>18156</th>\n",
       "      <td>29</td>\n",
       "      <td>7</td>\n",
       "      <td>2016</td>\n",
       "      <td>53</td>\n",
       "      <td>0</td>\n",
       "      <td>0</td>\n",
       "      <td>1</td>\n",
       "      <td>4</td>\n",
       "      <td>354.000000</td>\n",
       "      <td>0.199549</td>\n",
       "      <td>106</td>\n",
       "    </tr>\n",
       "    <tr>\n",
       "      <th>18157</th>\n",
       "      <td>29</td>\n",
       "      <td>7</td>\n",
       "      <td>2016</td>\n",
       "      <td>53</td>\n",
       "      <td>0</td>\n",
       "      <td>0</td>\n",
       "      <td>2</td>\n",
       "      <td>23</td>\n",
       "      <td>409.695656</td>\n",
       "      <td>0.269406</td>\n",
       "      <td>106</td>\n",
       "    </tr>\n",
       "    <tr>\n",
       "      <th>18158</th>\n",
       "      <td>29</td>\n",
       "      <td>7</td>\n",
       "      <td>2016</td>\n",
       "      <td>53</td>\n",
       "      <td>0</td>\n",
       "      <td>0</td>\n",
       "      <td>7</td>\n",
       "      <td>1</td>\n",
       "      <td>339.000000</td>\n",
       "      <td>0.260970</td>\n",
       "      <td>106</td>\n",
       "    </tr>\n",
       "    <tr>\n",
       "      <th>18159</th>\n",
       "      <td>29</td>\n",
       "      <td>7</td>\n",
       "      <td>2016</td>\n",
       "      <td>53</td>\n",
       "      <td>0</td>\n",
       "      <td>0</td>\n",
       "      <td>9</td>\n",
       "      <td>2</td>\n",
       "      <td>584.000000</td>\n",
       "      <td>0.233693</td>\n",
       "      <td>106</td>\n",
       "    </tr>\n",
       "    <tr>\n",
       "      <th>18160</th>\n",
       "      <td>29</td>\n",
       "      <td>7</td>\n",
       "      <td>2016</td>\n",
       "      <td>53</td>\n",
       "      <td>0</td>\n",
       "      <td>2</td>\n",
       "      <td>6</td>\n",
       "      <td>2</td>\n",
       "      <td>318.000000</td>\n",
       "      <td>0.333333</td>\n",
       "      <td>106</td>\n",
       "    </tr>\n",
       "    <tr>\n",
       "      <th>18161</th>\n",
       "      <td>29</td>\n",
       "      <td>7</td>\n",
       "      <td>2016</td>\n",
       "      <td>53</td>\n",
       "      <td>0</td>\n",
       "      <td>3</td>\n",
       "      <td>6</td>\n",
       "      <td>4</td>\n",
       "      <td>269.500000</td>\n",
       "      <td>0.285487</td>\n",
       "      <td>106</td>\n",
       "    </tr>\n",
       "    <tr>\n",
       "      <th>18162</th>\n",
       "      <td>29</td>\n",
       "      <td>7</td>\n",
       "      <td>2016</td>\n",
       "      <td>53</td>\n",
       "      <td>0</td>\n",
       "      <td>3</td>\n",
       "      <td>7</td>\n",
       "      <td>9</td>\n",
       "      <td>377.370367</td>\n",
       "      <td>0.317682</td>\n",
       "      <td>106</td>\n",
       "    </tr>\n",
       "  </tbody>\n",
       "</table>\n",
       "<p>18163 rows × 11 columns</p>\n",
       "</div>"
      ],
      "text/plain": [
       "       store  position  years  weeks of year  Isholiday  season  item  sales  \\\n",
       "0          0         7   2015              1          1       0     1      1   \n",
       "1          0         7   2015              1          1       0     2     30   \n",
       "2          0         7   2015              1          1       0     9      2   \n",
       "3          0         7   2015              1          1       0    10      2   \n",
       "4          0         7   2015              1          1       2     6      1   \n",
       "5          0         7   2015              1          1       3     7      2   \n",
       "6          0         7   2015              2          0       0     1      1   \n",
       "7          0         7   2015              2          0       0     2      6   \n",
       "8          0         7   2015              2          0       2     6      1   \n",
       "9          0         7   2015              2          0       3     6      2   \n",
       "10         0         7   2015              2          0       3     7      3   \n",
       "11         0         7   2015              3          0       0     1      1   \n",
       "12         0         7   2015              3          0       0     2      8   \n",
       "13         0         7   2015              3          0       0    10      2   \n",
       "14         0         7   2015              3          0       2     6      3   \n",
       "15         0         7   2015              3          0       3     6      1   \n",
       "16         0         7   2015              3          0       3     7      1   \n",
       "17         0         7   2015              4          0       0     2     19   \n",
       "18         0         7   2015              4          0       0    10      1   \n",
       "19         0         7   2015              4          0       2     6      4   \n",
       "20         0         7   2015              4          0       3     6      2   \n",
       "21         0         7   2015              4          0       3     7      3   \n",
       "22         0         7   2015              5          0       0     2     16   \n",
       "23         0         7   2015              5          0       0    10      1   \n",
       "24         0         7   2015              5          0       2     6      3   \n",
       "25         0         7   2015              5          0       3     6      2   \n",
       "26         0         7   2015              5          0       3     7      4   \n",
       "27         0         7   2015              6          0       0     1      1   \n",
       "28         0         7   2015              6          0       0     2     30   \n",
       "29         0         7   2015              6          0       2     6      1   \n",
       "...      ...       ...    ...            ...        ...     ...   ...    ...   \n",
       "18133     29         7   2016             49          0       0    10      6   \n",
       "18134     29         7   2016             49          0       2     6     44   \n",
       "18135     29         7   2016             49          0       2     7      5   \n",
       "18136     29         7   2016             49          0       3     6     12   \n",
       "18137     29         7   2016             49          0       3     7     36   \n",
       "18138     29         7   2016             50          0       0     1      1   \n",
       "18139     29         7   2016             50          0       0     2      7   \n",
       "18140     29         7   2016             50          0       0     8      6   \n",
       "18141     29         7   2016             50          0       2     6     12   \n",
       "18142     29         7   2016             50          0       3     6      3   \n",
       "18143     29         7   2016             50          0       3     7      3   \n",
       "18144     29         7   2016             51          0       0     2      5   \n",
       "18145     29         7   2016             51          0       0     8      2   \n",
       "18146     29         7   2016             51          0       2     6      5   \n",
       "18147     29         7   2016             51          0       3     6      3   \n",
       "18148     29         7   2016             51          0       3     7      1   \n",
       "18149     29         7   2016             52          0       0     1      1   \n",
       "18150     29         7   2016             52          0       0     2     12   \n",
       "18151     29         7   2016             52          0       0     8      4   \n",
       "18152     29         7   2016             52          0       0     9      1   \n",
       "18153     29         7   2016             52          0       2     6      9   \n",
       "18154     29         7   2016             52          0       3     6      1   \n",
       "18155     29         7   2016             52          0       3     7     12   \n",
       "18156     29         7   2016             53          0       0     1      4   \n",
       "18157     29         7   2016             53          0       0     2     23   \n",
       "18158     29         7   2016             53          0       0     7      1   \n",
       "18159     29         7   2016             53          0       0     9      2   \n",
       "18160     29         7   2016             53          0       2     6      2   \n",
       "18161     29         7   2016             53          0       3     6      4   \n",
       "18162     29         7   2016             53          0       3     7      9   \n",
       "\n",
       "           prices  discount  weeks  \n",
       "0      499.666700  0.333333      1  \n",
       "1      513.066663  0.371160      1  \n",
       "2      683.833300  0.325790      1  \n",
       "3      799.600000  0.400000      1  \n",
       "4      375.600000  0.400000      1  \n",
       "5      366.333350  0.333333      1  \n",
       "6      799.000000  0.470277      2  \n",
       "7      645.833333  0.467205      2  \n",
       "8      563.000000  0.599574      2  \n",
       "9      354.000000  0.385201      2  \n",
       "10     392.333333  0.346482      2  \n",
       "11     499.000000  0.312070      3  \n",
       "12     557.000000  0.394616      3  \n",
       "13     800.000000  0.400200      3  \n",
       "14     507.000000  0.534247      3  \n",
       "15     239.000000  0.265851      3  \n",
       "16     399.000000  0.399399      3  \n",
       "17     566.526316  0.401927      4  \n",
       "18     899.000000  0.449725      4  \n",
       "19     473.500000  0.500264      4  \n",
       "20     360.000000  0.400445      4  \n",
       "21     423.000000  0.438039      4  \n",
       "22     568.187500  0.404332      5  \n",
       "23     899.000000  0.449725      5  \n",
       "24     468.000000  0.500178      5  \n",
       "25     334.000000  0.371524      5  \n",
       "26     374.750000  0.375125      5  \n",
       "27     639.000000  0.376104      6  \n",
       "28     574.902857  0.394941      6  \n",
       "29     375.600000  0.400000      6  \n",
       "...           ...       ...    ...  \n",
       "18133  521.818150  0.263234    102  \n",
       "18134  319.353459  0.340842    102  \n",
       "18135  312.429100  0.322424    102  \n",
       "18136  335.689408  0.349434    102  \n",
       "18137  351.117344  0.305585    102  \n",
       "18138  423.939400  0.303030    103  \n",
       "18139  454.242429  0.303030    103  \n",
       "18140  388.585883  0.303030    103  \n",
       "18141  313.957092  0.335245    103  \n",
       "18142  299.697000  0.303030    103  \n",
       "18143  333.030300  0.303030    103  \n",
       "18144  367.240000  0.238622    104  \n",
       "18145  499.600000  0.400000    104  \n",
       "18146  374.440000  0.402191    104  \n",
       "18147  452.666667  0.478675    104  \n",
       "18148  439.600000  0.400000    104  \n",
       "18149  533.000000  0.333333    105  \n",
       "18150  448.611108  0.294364    105  \n",
       "18151  414.500000  0.319092    105  \n",
       "18152  699.000000  0.279712    105  \n",
       "18153  311.370367  0.333969    105  \n",
       "18154  323.000000  0.333333    105  \n",
       "18155  379.555550  0.318776    105  \n",
       "18156  354.000000  0.199549    106  \n",
       "18157  409.695656  0.269406    106  \n",
       "18158  339.000000  0.260970    106  \n",
       "18159  584.000000  0.233693    106  \n",
       "18160  318.000000  0.333333    106  \n",
       "18161  269.500000  0.285487    106  \n",
       "18162  377.370367  0.317682    106  \n",
       "\n",
       "[18163 rows x 11 columns]"
      ]
     },
     "execution_count": 37,
     "metadata": {},
     "output_type": "execute_result"
    }
   ],
   "source": [
    "import numpy as np\n",
    "import pandas as pd\n",
    "#import matplotlib.pyplot as plt\n",
    "\n",
    "all_data = pd.read_csv('sales所在周次节假日.csv')\n",
    "all_data.rename(columns={'店铺名称':'store','地理位置指数':'position','年份':'years','周次':'weeks of year','是否包含法定节假日':'Isholiday','季节':'season','大类':'item','销量':'sales','均价':'prices','促销':'discount'},inplace=True)\n",
    "all_data['weeks'] = all_data['weeks of year']\n",
    "a = all_data\n",
    "week_5 = a.loc[lambda a : a['years'] == 2015]\n",
    "week_6 = a.loc[lambda a : a['years'] == 2016]\n",
    "week_6['weeks'] += 53\n",
    "a = pd.concat([week_5,week_6])\n",
    "\n",
    "from sklearn import preprocessing\n",
    "\n",
    "#map店铺名称\n",
    "name = a['store']\n",
    "le = preprocessing.LabelEncoder()\n",
    "le.fit(name)\n",
    "list(name)\n",
    "le.transform(name)\n",
    "tmp = le.transform(name)\n",
    "a['store'] = tmp\n",
    "\n",
    "#map合并大类\n",
    "category = a['item']\n",
    "le.fit(category)\n",
    "list(category)\n",
    "le.transform(category)\n",
    "tmp = le.transform(category)\n",
    "a['item'] = tmp\n",
    "\n",
    "#map季节\n",
    "season = a['season']\n",
    "le.fit(season)\n",
    "list(season)\n",
    "le.transform(season)\n",
    "tmp = le.transform(season)\n",
    "a['season'] = tmp\n",
    "\n",
    "a"
   ]
  },
  {
   "cell_type": "code",
   "execution_count": 38,
   "metadata": {},
   "outputs": [
    {
     "name": "stdout",
     "output_type": "stream",
     "text": [
      "Train shape: (8119, 12)\n",
      "Test shape: (340, 12)\n"
     ]
    }
   ],
   "source": [
    "df = a\n",
    "masked_series = (df['years']==2016) & (df['weeks'].isin([53,54,55]))\n",
    "masked_series2 = (df['years']==2016) & (~(df['weeks'].isin([53,54,55])))\n",
    "df.loc[(masked_series), 'train_or_test'] = 'test'\n",
    "df.loc[(masked_series2), 'train_or_test'] = 'no_train'\n",
    "print('Train shape: {}'.format(df.loc[df['years']==2015,:].shape))\n",
    "print('Test shape: {}'.format(df.loc[df.train_or_test=='test',:].shape))\n"
   ]
  },
  {
   "cell_type": "code",
   "execution_count": 39,
   "metadata": {},
   "outputs": [
    {
     "data": {
      "text/html": [
       "<div>\n",
       "<style scoped>\n",
       "    .dataframe tbody tr th:only-of-type {\n",
       "        vertical-align: middle;\n",
       "    }\n",
       "\n",
       "    .dataframe tbody tr th {\n",
       "        vertical-align: top;\n",
       "    }\n",
       "\n",
       "    .dataframe thead th {\n",
       "        text-align: right;\n",
       "    }\n",
       "</style>\n",
       "<table border=\"1\" class=\"dataframe\">\n",
       "  <thead>\n",
       "    <tr style=\"text-align: right;\">\n",
       "      <th></th>\n",
       "      <th>store</th>\n",
       "      <th>position</th>\n",
       "      <th>years</th>\n",
       "      <th>weeks of year</th>\n",
       "      <th>Isholiday</th>\n",
       "      <th>season</th>\n",
       "      <th>item</th>\n",
       "      <th>sales</th>\n",
       "      <th>prices</th>\n",
       "      <th>discount</th>\n",
       "      <th>weeks</th>\n",
       "    </tr>\n",
       "  </thead>\n",
       "  <tbody>\n",
       "    <tr>\n",
       "      <th>12655</th>\n",
       "      <td>21</td>\n",
       "      <td>7</td>\n",
       "      <td>2015</td>\n",
       "      <td>22</td>\n",
       "      <td>0</td>\n",
       "      <td>2</td>\n",
       "      <td>6</td>\n",
       "      <td>4</td>\n",
       "      <td>1.609438</td>\n",
       "      <td>0.43988</td>\n",
       "      <td>22</td>\n",
       "    </tr>\n",
       "    <tr>\n",
       "      <th>16901</th>\n",
       "      <td>28</td>\n",
       "      <td>7</td>\n",
       "      <td>2015</td>\n",
       "      <td>15</td>\n",
       "      <td>0</td>\n",
       "      <td>2</td>\n",
       "      <td>6</td>\n",
       "      <td>21</td>\n",
       "      <td>3.091042</td>\n",
       "      <td>0.43340</td>\n",
       "      <td>15</td>\n",
       "    </tr>\n",
       "  </tbody>\n",
       "</table>\n",
       "</div>"
      ],
      "text/plain": [
       "       store  position  years  weeks of year  Isholiday  season  item  sales  \\\n",
       "12655     21         7   2015             22          0       2     6      4   \n",
       "16901     28         7   2015             15          0       2     6     21   \n",
       "\n",
       "         prices  discount  weeks  \n",
       "12655  1.609438   0.43988     22  \n",
       "16901  3.091042   0.43340     15  "
      ]
     },
     "execution_count": 39,
     "metadata": {},
     "output_type": "execute_result"
    }
   ],
   "source": [
    "df_n = df.drop(['train_or_test'],axis=1)\n",
    "\n",
    "#log sales,prices\n",
    "#df_n['sales'] = np.log1p(df.sales.values)\n",
    "df_n['prices'] = np.log1p(df.sales.values)\n",
    "df_n.sample(2)\n",
    "#df_n = df_n.drop(['prices','discount'],axis=1)"
   ]
  },
  {
   "cell_type": "code",
   "execution_count": 40,
   "metadata": {},
   "outputs": [],
   "source": [
    "outlier = df_n[lambda df_n: df_n['sales'] > 200]\n",
    "#outlier.index\n",
    "df_n = df_n.drop([2215, 2222, 2341, 2511, 2518, 2984, 5672, 2583, 2730, 2890, 2897,8064])"
   ]
  },
  {
   "cell_type": "code",
   "execution_count": 41,
   "metadata": {},
   "outputs": [
    {
     "name": "stdout",
     "output_type": "stream",
     "text": [
      "0 106\n",
      "2 106\n",
      "3 106\n",
      "4 106\n",
      "5 106\n",
      "6 106\n",
      "7 106\n",
      "8 106\n",
      "9 106\n",
      "10 106\n",
      "11 106\n",
      "12 106\n",
      "13 79\n",
      "14 106\n",
      "16 106\n",
      "17 106\n",
      "18 106\n",
      "19 106\n",
      "21 106\n",
      "22 106\n",
      "23 106\n",
      "24 106\n",
      "25 106\n",
      "26 92\n",
      "27 106\n",
      "28 106\n",
      "29 106\n",
      "1 17\n",
      "15 17\n",
      "20 29\n"
     ]
    }
   ],
   "source": [
    "for i in df_n['store'].drop_duplicates():\n",
    "    a = df_n[lambda df_n : df_n['store'] == i]\n",
    "    b = a['weeks'].drop_duplicates().count()\n",
    "    print (i,b)\n",
    "    if b != 106:\n",
    "        s_ = df_n[lambda df_n: df_n['store'] == i]\n",
    "        index_s = s_.index\n",
    "        df_n = df_n.drop(index_s)"
   ]
  },
  {
   "cell_type": "code",
   "execution_count": 42,
   "metadata": {},
   "outputs": [],
   "source": [
    "train = df_n[lambda df_n: df_n['weeks'] < 54]\n",
    "#train = df_n.sort_values('weeks',ascending='True')\n",
    "#train = train.drop(['prices','discount'],axis=1)\n",
    "y_train = train['sales']"
   ]
  },
  {
   "cell_type": "code",
   "execution_count": null,
   "metadata": {},
   "outputs": [],
   "source": [
    "#评价指标：\n",
    "\n",
    "def mae(y_pred, y_true):\n",
    "    errors = abs(y_pred - y_true)\n",
    "    return np.sum(errors) / len(y_true)\n",
    "def mape(y_pred, y_true):\n",
    "    # calculate error\n",
    "    #denom = (abs(y_pred) + abs(y_true)) / 2\n",
    "    errors = abs((y_pred - y_true) / y_true)\n",
    "    return 100 *np.sum(errors) / len(y_true)\n",
    "def smape(y_pred, y_true):\n",
    "    # calculate error\n",
    "    denom = (abs(y_pred) + abs(y_true)) / 2\n",
    "    errors = abs(y_pred - y_true) / denom\n",
    "    return 100 *np.sum(errors) / len(y_true)"
   ]
  },
  {
   "cell_type": "code",
   "execution_count": 43,
   "metadata": {},
   "outputs": [],
   "source": [
    "#train = df_n[lambda df_n: df_n['years']==2015]\n",
    "#t1 = df_n[lambda df_n: df_n['weeks']==54]\n",
    "#t2 = df_n[lambda df_n: df_n['weeks']==55]\n",
    "#t3 = df_n[lambda df_n: df_n['weeks']==56]\n",
    "#test = pd.concat([t1,t2,t3])\n",
    "\n",
    "#y_train = train['sales']\n",
    "#y_test = test['sales']\n",
    "#X_train = train.drop('sales', axis=1)\n",
    "#X_test = test.drop('sales', axis=1)"
   ]
  },
  {
   "cell_type": "code",
   "execution_count": 44,
   "metadata": {},
   "outputs": [],
   "source": [
    "from sklearn.linear_model import ElasticNet, Lasso,  BayesianRidge, LassoLarsIC\n",
    "from sklearn.ensemble import RandomForestRegressor,  GradientBoostingRegressor\n",
    "from sklearn.kernel_ridge import KernelRidge\n",
    "from sklearn import svm\n",
    "from sklearn.neural_network import MLPRegressor\n",
    "from sklearn.pipeline import make_pipeline\n",
    "from sklearn.preprocessing import RobustScaler\n",
    "from sklearn.base import BaseEstimator, TransformerMixin, RegressorMixin, clone\n",
    "from sklearn.model_selection import KFold, cross_val_score, train_test_split\n",
    "from sklearn.metrics import mean_squared_error,r2_score\n",
    "import xgboost as xgb\n",
    "import lightgbm as lgb"
   ]
  },
  {
   "cell_type": "code",
   "execution_count": 45,
   "metadata": {},
   "outputs": [],
   "source": [
    "#Validation function\n",
    "n_folds = 3\n",
    "\n",
    "def rmsle_cv(model):\n",
    "    kf = KFold(n_folds).get_n_splits(train.values)\n",
    "    rmse= np.sqrt(-cross_val_score(model, train.values, y_train, scoring=\"neg_mean_squared_error\", cv = kf))\n",
    "    return(rmse)"
   ]
  },
  {
   "cell_type": "code",
   "execution_count": 46,
   "metadata": {},
   "outputs": [],
   "source": [
    "lasso = make_pipeline(RobustScaler(), Lasso(alpha =0.0005, random_state=1))\n",
    "ENet = make_pipeline(RobustScaler(), ElasticNet(alpha=0.0005, l1_ratio=.9, random_state=3))\n",
    "KRR = KernelRidge(alpha=0.6, kernel='polynomial', degree=2, coef0=2.5)\n",
    "model_svm = svm.SVR(C=1.0, cache_size=200, coef0=0.0, degree=3, epsilon=0.1,\n",
    "                    gamma='auto', kernel='rbf', max_iter=-1, shrinking=True,\n",
    "                    tol=0.001, verbose=False)\n",
    "\n",
    "model_regr = RandomForestRegressor(max_depth=2, random_state=0,\n",
    "                                    n_estimators=100)\n",
    "GBoost = GradientBoostingRegressor(n_estimators=3000, learning_rate=0.05,\n",
    "                                   max_depth=4, max_features='sqrt',\n",
    "                                   min_samples_leaf=15, min_samples_split=10, \n",
    "                                   loss='huber', random_state =5)\n",
    "# model_xgb = xgb.XGBRegressor(colsample_bytree=0.4603, gamma=0.0468, \n",
    "#                              learning_rate=0.05, max_depth=3, \n",
    "#                              min_child_weight=1.7817, n_estimators=2200,\n",
    "#                              reg_alpha=0.4640, reg_lambda=0.8571,\n",
    "#                              subsample=0.5213, silent=1,\n",
    "#                              random_state =7, nthread = -1)\n",
    "# model_lgb = lgb.LGBMRegressor(objective='regression',num_leaves=5,\n",
    "#                               learning_rate=0.05, n_estimators=720,\n",
    "#                               max_bin = 55, bagging_fraction = 0.8,\n",
    "#                               bagging_freq = 5, feature_fraction = 0.2319,\n",
    "#                               feature_fraction_seed=9, bagging_seed=9,\n",
    "#                               min_data_in_leaf =6, min_sum_hessian_in_leaf = 11)\n",
    "model_xgb = xgb.XGBRegressor(njob=-1)\n",
    "model_lgb = lgb.LGBMRegressor(njob=-1)\n",
    "model_mlp = MLPRegressor(activation='identity')\n"
   ]
  },
  {
   "cell_type": "code",
   "execution_count": 47,
   "metadata": {},
   "outputs": [],
   "source": [
    "# score = rmsle_cv(lasso)\n",
    "# print(\"\\nLasso score: {:.4f} ({:.4f})\\n\".format(score.mean(), score.std()))\n",
    "# score = rmsle_cv(ENet)\n",
    "# print(\"ElasticNet score: {:.4f} ({:.4f})\\n\".format(score.mean(), score.std()))\n",
    "# #score = rmsle_cv(KRR)\n",
    "# #print(\"Kernel Ridge score: {:.4f} ({:.4f})\\n\".format(score.mean(), score.std()))\n",
    "# #score = rmsle_cv(GBoost)\n",
    "# #print(\"Gradient Boosting score: {:.4f} ({:.4f})\\n\".format(score.mean(), score.std()))\n",
    "# score = rmsle_cv(model_xgb)\n",
    "# print(\"Xgboost score: {:.4f} ({:.4f})\\n\".format(score.mean(), score.std()))\n",
    "# score = rmsle_cv(model_lgb)\n",
    "# print(\"LGBM score: {:.4f} ({:.4f})\\n\" .format(score.mean(), score.std()))"
   ]
  },
  {
   "cell_type": "code",
   "execution_count": 48,
   "metadata": {},
   "outputs": [],
   "source": [
    "df_test = df_n[lambda df_n: df_n['weeks'] > 53]\n",
    "df_test_1 = df_test[lambda df_n: df_n['weeks'] <67]\n",
    "df_test_2_ = df_test[lambda df_n: df_n['weeks'] <79]\n",
    "df_test_2 = df_test_2_[lambda df_n: df_n['weeks'] >67]\n",
    "df_test_3_ = df_test[lambda df_n: df_n['weeks'] <92]\n",
    "df_test_3 = df_test_3_[lambda df_n: df_n['weeks'] >79]\n",
    "df_test_4 = df_test[lambda df_n: df_n['weeks'] >92]"
   ]
  },
  {
   "cell_type": "code",
   "execution_count": 49,
   "metadata": {},
   "outputs": [],
   "source": [
    "df_train = df_n[lambda df_n: df_n['weeks'] < 53]\n",
    "df_train_1 = df_train[lambda df_n: df_n['weeks'] <14]\n",
    "df_train_2_ = df_train[lambda df_n: df_n['weeks'] <27]\n",
    "df_train_2 = df_train_2_[lambda df_n: df_n['weeks'] >14]\n",
    "df_train_3_ = df_train[lambda df_n: df_n['weeks'] <40]\n",
    "df_train_3 = df_train_3_[lambda df_n: df_n['weeks'] >27]\n",
    "df_train_4 = df_train[lambda df_n: df_n['weeks'] >40]"
   ]
  },
  {
   "cell_type": "code",
   "execution_count": 50,
   "metadata": {
    "scrolled": true
   },
   "outputs": [],
   "source": [
    "df_test_0_x = df_test.drop(['sales'],axis=1)\n",
    "df_test_0_y = df_test['sales']\n",
    "df_test_1_x = df_test_1.drop(['sales'],axis=1)\n",
    "df_test_1_y = df_test_1['sales']\n",
    "df_test_2_x = df_test_2.drop(['sales'],axis=1)\n",
    "df_test_2_y = df_test_2['sales']\n",
    "df_test_3_x = df_test_3.drop(['sales'],axis=1)\n",
    "df_test_3_y = df_test_3['sales']\n",
    "df_test_4_x = df_test_4.drop(['sales'],axis=1)\n",
    "df_test_4_y = df_test_4['sales']\n",
    "\n",
    "df_train_0_x = df_train.drop(['sales'],axis=1)\n",
    "df_train_0_y = df_train['sales']\n",
    "df_train_1_x = df_train_1.drop(['sales'],axis=1)\n",
    "df_train_1_y = df_train_1['sales']\n",
    "df_train_2_x = df_train_2.drop(['sales'],axis=1)\n",
    "df_train_2_y = df_train_2['sales']\n",
    "df_train_3_x = df_train_3.drop(['sales'],axis=1)\n",
    "df_train_3_y = df_train_3['sales']\n",
    "df_train_4_x = df_train_4.drop(['sales'],axis=1)\n",
    "df_train_4_y = df_train_4['sales']"
   ]
  },
  {
   "cell_type": "code",
   "execution_count": 51,
   "metadata": {},
   "outputs": [],
   "source": [
    "import matplotlib.pylab as plt\n",
    "\n",
    "def rmse_test(model):\n",
    "    model = model.fit(df_train_0_x,df_train_0_y)\n",
    "    y_pred_1 = model.predict(df_test_1_x)\n",
    "    print('The rmse of prediction is:', mean_squared_error(df_test_1_y, y_pred_1) ** 0.5)\n",
    "    print('The R^2 of prediction is:', r2_score(df_test_1_y, y_pred_1))\n",
    "    \n"
   ]
  },
  {
   "cell_type": "raw",
   "metadata": {},
   "source": [
    "class rmse_test:\n",
    "    def __init__(self,model):\n",
    "        self.model=model\n",
    "    def rmse_compute(model):\n",
    "        model = model.fit(df_train_0_x,df_train_0_y)\n",
    "        y_pred_1 = model.predict(df_test_1_x)\n",
    "        print('The rmse of prediction is:', mean_squared_error(df_test_1_y, y_pred_1) ** 0.5)\n",
    "        print('The R^2 of prediction is:', r2_score(df_test_1_y, y_pred_1))\n",
    "    def model_get(model):\n",
    "        model = model.fit(df_train_0_x,df_train_0_y)\n",
    "        return model"
   ]
  },
  {
   "cell_type": "code",
   "execution_count": 53,
   "metadata": {},
   "outputs": [
    {
     "name": "stdout",
     "output_type": "stream",
     "text": [
      "The rmse of prediction is: 8.482563371579579\n",
      "The R^2 of prediction is: 0.6349788533551317\n",
      "The rmse of prediction is: 14.459422407563828\n",
      "The R^2 of prediction is: -0.06063435313316923\n",
      "The rmse of prediction is: 4.393859533917694\n",
      "The R^2 of prediction is: 0.902060893588389\n",
      "The rmse of prediction is: 1.920630506199611\n",
      "The R^2 of prediction is: 0.9812866541252079\n",
      "The rmse of prediction is: 0.18916243726890417\n",
      "The R^2 of prediction is: 0.9998184761887261\n",
      "The rmse of prediction is: 0.18916243726890417\n",
      "The R^2 of prediction is: 0.9998184761887261\n",
      "The rmse of prediction is: 10.562294220077478\n",
      "The R^2 of prediction is: 0.4340470589983422\n"
     ]
    }
   ],
   "source": [
    "rmse_test(lasso)\n",
    "rmse_test(model_svm)\n",
    "rmse_test(model_regr)\n",
    "rmse_test(GBoost)\n",
    "rmse_test(model_xgb)\n",
    "rmse_test(model_xgb)\n",
    "rmse_test(model_mlp)"
   ]
  },
  {
   "cell_type": "code",
   "execution_count": 18,
   "metadata": {},
   "outputs": [
    {
     "data": {
      "image/png": "[encoded data removed]",
      "text/plain": [
       "<Figure size 432x288 with 1 Axes>"
      ]
     },
     "metadata": {
      "needs_background": "light"
     },
     "output_type": "display_data"
    }
   ],
   "source": [
    "import matplotlib.pylab as plt\n",
    "\n",
    "#plt.figure(figsize=(12,6))\n",
    "xgb.plot_importance(rmse_test.model_get(model_xgb), max_num_features=30)\n",
    "plt.title(\"Featurertances of xgb\")\n",
    "plt.show()"
   ]
  },
  {
   "cell_type": "code",
   "execution_count": 19,
   "metadata": {},
   "outputs": [
    {
     "name": "stdout",
     "output_type": "stream",
     "text": [
      "The rmse of prediction is: 1.8800172139524893\n",
      "The R^2 of prediction is: 0.9820697043390899\n"
     ]
    },
    {
     "data": {
      "text/plain": [
       "LGBMRegressor(boosting_type='gbdt', class_weight=None, colsample_bytree=1.0,\n",
       "       importance_type='split', learning_rate=0.1, max_depth=-1,\n",
       "       min_child_samples=20, min_child_weight=0.001, min_split_gain=0.0,\n",
       "       n_estimators=100, n_jobs=-1, njob=-1, num_leaves=31, objective=None,\n",
       "       random_state=None, reg_alpha=0.0, reg_lambda=0.0, silent=True,\n",
       "       subsample=1.0, subsample_for_bin=200000, subsample_freq=0)"
      ]
     },
     "execution_count": 19,
     "metadata": {},
     "output_type": "execute_result"
    }
   ],
   "source": [
    "rmse_test.rmse_compute(model_lgb)\n",
    "rmse_test.model_get(model_lgb)"
   ]
  },
  {
   "cell_type": "code",
   "execution_count": 20,
   "metadata": {},
   "outputs": [
    {
     "data": {
      "image/png": "[encoded data removed]",
      "text/plain": [
       "<Figure size 432x288 with 1 Axes>"
      ]
     },
     "metadata": {
      "needs_background": "light"
     },
     "output_type": "display_data"
    }
   ],
   "source": [
    "\n",
    "\n",
    "#plt.figure(figsize=(12,6))\n",
    "lgb.plot_importance(rmse_test.model_get(model_lgb), max_num_features=30)\n",
    "plt.title(\"Featurertances of lgb\")\n",
    "plt.show()"
   ]
  },
  {
   "cell_type": "markdown",
   "metadata": {},
   "source": [
    "# 第一次迭代"
   ]
  },
  {
   "cell_type": "code",
   "execution_count": 21,
   "metadata": {},
   "outputs": [],
   "source": [
    "#去头，尾变\n",
    "model_xgb.fit(df_train_0_x,df_train_0_y)\n",
    "y_pred_1 = pd.DataFrame(model_xgb.predict(df_test_1_x))"
   ]
  },
  {
   "cell_type": "code",
   "execution_count": 22,
   "metadata": {},
   "outputs": [],
   "source": [
    "train_ite_1_x = pd.concat([df_train_2_x,df_train_3_x,df_train_4_x,df_test_1_x])\n",
    "train_ite_1_y = pd.concat([df_train_2_y,df_train_3_y,df_train_4_y,y_pred_1])"
   ]
  },
  {
   "cell_type": "raw",
   "metadata": {},
   "source": []
  },
  {
   "cell_type": "code",
   "execution_count": 23,
   "metadata": {},
   "outputs": [
    {
     "name": "stdout",
     "output_type": "stream",
     "text": [
      "The rmse of prediction is: 5.3837882253466445\n",
      "The R^2 of prediction is: 0.7036870153792605\n"
     ]
    },
    {
     "name": "stderr",
     "output_type": "stream",
     "text": [
      "/home/lin/anaconda3/envs/boost/lib/python3.7/site-packages/sklearn/utils/validation.py:761: DataConversionWarning: A column-vector y was passed when a 1d array was expected. Please change the shape of y to (n_samples, ), for example using ravel().\n",
      "  y = column_or_1d(y, warn=True)\n"
     ]
    },
    {
     "name": "stdout",
     "output_type": "stream",
     "text": [
      "The rmse of prediction is: 10.34594593888737\n",
      "The R^2 of prediction is: -0.09424647390558882\n"
     ]
    },
    {
     "name": "stderr",
     "output_type": "stream",
     "text": [
      "/home/lin/anaconda3/envs/boost/lib/python3.7/site-packages/ipykernel_launcher.py:2: DataConversionWarning: A column-vector y was passed when a 1d array was expected. Please change the shape of y to (n_samples,), for example using ravel().\n",
      "  \n"
     ]
    },
    {
     "name": "stdout",
     "output_type": "stream",
     "text": [
      "The rmse of prediction is: 3.218028594581416\n",
      "The R^2 of prediction is: 0.894134477832525\n"
     ]
    },
    {
     "name": "stderr",
     "output_type": "stream",
     "text": [
      "/home/lin/anaconda3/envs/boost/lib/python3.7/site-packages/sklearn/utils/validation.py:761: DataConversionWarning: A column-vector y was passed when a 1d array was expected. Please change the shape of y to (n_samples, ), for example using ravel().\n",
      "  y = column_or_1d(y, warn=True)\n"
     ]
    },
    {
     "name": "stdout",
     "output_type": "stream",
     "text": [
      "The rmse of prediction is: 0.6453963391974499\n",
      "The R^2 of prediction is: 0.9957417834681519\n",
      "The rmse of prediction is: 0.0655325258682639\n",
      "The R^2 of prediction is: 0.999956097569753\n",
      "The rmse of prediction is: 0.1761650898128709\n",
      "The R^2 of prediction is: 0.9996827406387777\n"
     ]
    },
    {
     "name": "stderr",
     "output_type": "stream",
     "text": [
      "/home/lin/anaconda3/envs/boost/lib/python3.7/site-packages/sklearn/neural_network/multilayer_perceptron.py:1316: DataConversionWarning: A column-vector y was passed when a 1d array was expected. Please change the shape of y to (n_samples, ), for example using ravel().\n",
      "  y = column_or_1d(y, warn=True)\n"
     ]
    },
    {
     "name": "stdout",
     "output_type": "stream",
     "text": [
      "The rmse of prediction is: 5.735122561450081\n",
      "The R^2 of prediction is: 0.6637516568557649\n"
     ]
    }
   ],
   "source": [
    "def rmse_test(model):\n",
    "    model = model.fit(train_ite_1_x,train_ite_1_y)\n",
    "    y_pred_2 = model.predict(df_test_2_x)\n",
    "    print('The rmse of prediction is:', mean_squared_error(df_test_2_y, y_pred_2) ** 0.5)\n",
    "    print('The R^2 of prediction is:', r2_score(df_test_2_y, y_pred_2))\n",
    "\n",
    "rmse_test(lasso)\n",
    "rmse_test(model_svm)\n",
    "rmse_test(model_regr)\n",
    "rmse_test(GBoost)\n",
    "\n",
    "rmse_test(model_xgb)\n",
    "rmse_test(model_lgb)\n",
    "rmse_test(model_mlp)\n"
   ]
  },
  {
   "cell_type": "code",
   "execution_count": 24,
   "metadata": {},
   "outputs": [
    {
     "name": "stdout",
     "output_type": "stream",
     "text": [
      "The rmse of prediction is: 0.0655325258682639\n",
      "The R^2 of prediction is: 0.999956097569753\n",
      "The rmse of prediction is: 0.1761650898128709\n",
      "The R^2 of prediction is: 0.9996827406387777\n"
     ]
    },
    {
     "data": {
      "text/plain": [
       "<__main__.rmse_test at 0x7fb5c8ad9dd8>"
      ]
     },
     "execution_count": 24,
     "metadata": {},
     "output_type": "execute_result"
    }
   ],
   "source": [
    "class rmse_test:\n",
    "    def __init__(self,model):\n",
    "        self.model=model\n",
    "    def rmse_compute(model):\n",
    "        model = model.fit(train_ite_1_x,train_ite_1_y)\n",
    "        y_pred_2 = model.predict(df_test_2_x)\n",
    "        print('The rmse of prediction is:', mean_squared_error(df_test_2_y, y_pred_2) ** 0.5)\n",
    "        print('The R^2 of prediction is:', r2_score(df_test_2_y, y_pred_2))\n",
    "    def model_get(model):\n",
    "        model = model.fit(df_train_0_x,df_train_0_y)\n",
    "        return model\n",
    "\n",
    "\n",
    "\n",
    "\n",
    "rmse_test(lasso)\n",
    "rmse_test(model_svm)\n",
    "rmse_test(model_regr)\n",
    "rmse_test(GBoost)\n",
    "\n",
    "rmse_test.rmse_compute(model_xgb)\n",
    "rmse_test.rmse_compute(model_lgb)\n",
    "rmse_test(model_mlp)"
   ]
  },
  {
   "cell_type": "code",
   "execution_count": 25,
   "metadata": {},
   "outputs": [
    {
     "data": {
      "image/png": "[encoded data removed]",
      "text/plain": [
       "<Figure size 432x288 with 1 Axes>"
      ]
     },
     "metadata": {
      "needs_background": "light"
     },
     "output_type": "display_data"
    },
    {
     "data": {
      "image/png": "[encoded data removed]",
      "text/plain": [
       "<Figure size 432x288 with 1 Axes>"
      ]
     },
     "metadata": {
      "needs_background": "light"
     },
     "output_type": "display_data"
    }
   ],
   "source": [
    "xgb.plot_importance(rmse_test.model_get(model_xgb), max_num_features=30)\n",
    "plt.title(\"Featurertances of xgb\")\n",
    "plt.show()\n",
    "\n",
    "lgb.plot_importance(rmse_test.model_get(model_lgb), max_num_features=30)\n",
    "plt.title(\"Featurertances of lgb\")\n",
    "plt.show()"
   ]
  },
  {
   "cell_type": "code",
   "execution_count": 26,
   "metadata": {},
   "outputs": [
    {
     "name": "stdout",
     "output_type": "stream",
     "text": [
      "The rmse of prediction is: 5.3865118621674934\n",
      "The R^2 of prediction is: 0.7033871324481231\n",
      "The rmse of prediction is: 10.346020326073896\n",
      "The R^2 of prediction is: -0.09426220919159678\n",
      "The rmse of prediction is: 3.217366495234879\n",
      "The R^2 of prediction is: 0.8941780363530472\n",
      "The rmse of prediction is: 0.7748473510246376\n",
      "The R^2 of prediction is: 0.9938622802910116\n",
      "The rmse of prediction is: 0.06488890485357622\n",
      "The R^2 of prediction is: 0.999956955701407\n",
      "The rmse of prediction is: 0.17748583695611828\n",
      "The R^2 of prediction is: 0.9996779656843959\n",
      "The rmse of prediction is: 5.831582456251329\n",
      "The R^2 of prediction is: 0.6523457140289228\n"
     ]
    }
   ],
   "source": [
    "#去头，尾不变\n",
    "train_ite_1_x = pd.concat([df_train_2_x,df_train_3_x,df_train_4_x,df_test_1_x])\n",
    "train_ite_1_y = pd.concat([df_train_2_y,df_train_3_y,df_train_4_y,df_test_1_y])\n",
    "\n",
    "def rmse_test(model):\n",
    "    model = model.fit(train_ite_1_x,train_ite_1_y)\n",
    "    y_pred_2 = model.predict(df_test_2_x)\n",
    "    print('The rmse of prediction is:', mean_squared_error(df_test_2_y, y_pred_2) ** 0.5)\n",
    "    print('The R^2 of prediction is:', r2_score(df_test_2_y, y_pred_2))\n",
    "\n",
    "rmse_test(lasso)\n",
    "rmse_test(model_svm)\n",
    "rmse_test(model_regr)\n",
    "rmse_test(GBoost)\n",
    "rmse_test(model_xgb)\n",
    "rmse_test(model_lgb)\n",
    "rmse_test(model_mlp)\n"
   ]
  },
  {
   "cell_type": "code",
   "execution_count": 27,
   "metadata": {},
   "outputs": [
    {
     "name": "stdout",
     "output_type": "stream",
     "text": [
      "The rmse of prediction is: 5.3643816004502725\n",
      "The R^2 of prediction is: 0.7058193692449086\n"
     ]
    },
    {
     "name": "stderr",
     "output_type": "stream",
     "text": [
      "/home/lin/anaconda3/envs/boost/lib/python3.7/site-packages/sklearn/utils/validation.py:761: DataConversionWarning: A column-vector y was passed when a 1d array was expected. Please change the shape of y to (n_samples, ), for example using ravel().\n",
      "  y = column_or_1d(y, warn=True)\n"
     ]
    },
    {
     "name": "stdout",
     "output_type": "stream",
     "text": [
      "The rmse of prediction is: 10.339005190047255\n",
      "The R^2 of prediction is: -0.0927787797168349\n"
     ]
    },
    {
     "name": "stderr",
     "output_type": "stream",
     "text": [
      "/home/lin/anaconda3/envs/boost/lib/python3.7/site-packages/ipykernel_launcher.py:6: DataConversionWarning: A column-vector y was passed when a 1d array was expected. Please change the shape of y to (n_samples,), for example using ravel().\n",
      "  \n"
     ]
    },
    {
     "name": "stdout",
     "output_type": "stream",
     "text": [
      "The rmse of prediction is: 3.2734572035297873\n",
      "The R^2 of prediction is: 0.8904561296398941\n"
     ]
    },
    {
     "name": "stderr",
     "output_type": "stream",
     "text": [
      "/home/lin/anaconda3/envs/boost/lib/python3.7/site-packages/sklearn/utils/validation.py:761: DataConversionWarning: A column-vector y was passed when a 1d array was expected. Please change the shape of y to (n_samples, ), for example using ravel().\n",
      "  y = column_or_1d(y, warn=True)\n"
     ]
    },
    {
     "name": "stdout",
     "output_type": "stream",
     "text": [
      "The rmse of prediction is: 0.3344907990344275\n",
      "The R^2 of prediction is: 0.998856218419783\n",
      "The rmse of prediction is: 0.05244048150481364\n",
      "The R^2 of prediction is: 0.9999718869420557\n",
      "The rmse of prediction is: 0.08003449734059483\n",
      "The R^2 of prediction is: 0.9999345169062156\n"
     ]
    },
    {
     "name": "stderr",
     "output_type": "stream",
     "text": [
      "/home/lin/anaconda3/envs/boost/lib/python3.7/site-packages/sklearn/neural_network/multilayer_perceptron.py:1316: DataConversionWarning: A column-vector y was passed when a 1d array was expected. Please change the shape of y to (n_samples, ), for example using ravel().\n",
      "  y = column_or_1d(y, warn=True)\n"
     ]
    },
    {
     "name": "stdout",
     "output_type": "stream",
     "text": [
      "The rmse of prediction is: 5.565900140493287\n",
      "The R^2 of prediction is: 0.6833018205278961\n"
     ]
    }
   ],
   "source": [
    "#不去头，尾变\n",
    "train_ite_1_x = pd.concat([df_train_1_x,df_train_2_x,df_train_3_x,df_train_4_x,df_test_1_x])\n",
    "train_ite_1_y = pd.concat([df_train_1_y,df_train_2_y,df_train_3_y,df_train_4_y,y_pred_1])\n",
    "\n",
    "def rmse_test(model):\n",
    "    model = model.fit(train_ite_1_x,train_ite_1_y)\n",
    "    y_pred_2 = model.predict(df_test_2_x)\n",
    "    print('The rmse of prediction is:', mean_squared_error(df_test_2_y, y_pred_2) ** 0.5)\n",
    "    print('The R^2 of prediction is:', r2_score(df_test_2_y, y_pred_2))\n",
    "\n",
    "rmse_test(lasso)\n",
    "rmse_test(model_svm)\n",
    "rmse_test(model_regr)\n",
    "rmse_test(GBoost)\n",
    "rmse_test(model_xgb)\n",
    "rmse_test(model_lgb)\n",
    "rmse_test(model_mlp)\n"
   ]
  },
  {
   "cell_type": "code",
   "execution_count": 28,
   "metadata": {},
   "outputs": [
    {
     "name": "stdout",
     "output_type": "stream",
     "text": [
      "The rmse of prediction is: 5.3666798286878405\n",
      "The R^2 of prediction is: 0.7055672473377392\n",
      "The rmse of prediction is: 10.33905607403344\n",
      "The R^2 of prediction is: -0.09278953608577756\n",
      "The rmse of prediction is: 3.266550645262166\n",
      "The R^2 of prediction is: 0.8909178879244303\n",
      "The rmse of prediction is: 0.3782386864536073\n",
      "The R^2 of prediction is: 0.9985374637484745\n",
      "The rmse of prediction is: 0.05232822619979671\n",
      "The R^2 of prediction is: 0.9999720071721555\n",
      "The rmse of prediction is: 0.0780836857874715\n",
      "The R^2 of prediction is: 0.9999376702540631\n",
      "The rmse of prediction is: 5.635286180426365\n",
      "The R^2 of prediction is: 0.6753565101108034\n"
     ]
    }
   ],
   "source": [
    "#不去头，尾不变\n",
    "train_ite_1_x = pd.concat([df_train_1_x,df_train_2_x,df_train_3_x,df_train_4_x,df_test_1_x])\n",
    "train_ite_1_y = pd.concat([df_train_1_y,df_train_2_y,df_train_3_y,df_train_4_y,df_test_1_y])\n",
    "\n",
    "def rmse_test(model):\n",
    "    model = model.fit(train_ite_1_x,train_ite_1_y)\n",
    "    y_pred_2 = model.predict(df_test_2_x)\n",
    "    print('The rmse of prediction is:', mean_squared_error(df_test_2_y, y_pred_2) ** 0.5)\n",
    "    print('The R^2 of prediction is:', r2_score(df_test_2_y, y_pred_2))\n",
    "\n",
    "rmse_test(lasso)\n",
    "rmse_test(model_svm)\n",
    "rmse_test(model_regr)\n",
    "rmse_test(GBoost)\n",
    "rmse_test(model_xgb)\n",
    "rmse_test(model_lgb)\n",
    "rmse_test(model_mlp)\n"
   ]
  },
  {
   "cell_type": "markdown",
   "metadata": {},
   "source": [
    "# 第二次迭代"
   ]
  },
  {
   "cell_type": "code",
   "execution_count": 29,
   "metadata": {},
   "outputs": [
    {
     "name": "stdout",
     "output_type": "stream",
     "text": [
      "The rmse of prediction is: 5.3952954961446435\n",
      "The R^2 of prediction is: 0.6139690015683514\n"
     ]
    },
    {
     "name": "stderr",
     "output_type": "stream",
     "text": [
      "/home/lin/anaconda3/envs/boost/lib/python3.7/site-packages/sklearn/utils/validation.py:761: DataConversionWarning: A column-vector y was passed when a 1d array was expected. Please change the shape of y to (n_samples, ), for example using ravel().\n",
      "  y = column_or_1d(y, warn=True)\n"
     ]
    },
    {
     "name": "stdout",
     "output_type": "stream",
     "text": [
      "The rmse of prediction is: 8.8121873147064\n",
      "The R^2 of prediction is: -0.02981484730901296\n"
     ]
    },
    {
     "name": "stderr",
     "output_type": "stream",
     "text": [
      "/home/lin/anaconda3/envs/boost/lib/python3.7/site-packages/ipykernel_launcher.py:9: DataConversionWarning: A column-vector y was passed when a 1d array was expected. Please change the shape of y to (n_samples,), for example using ravel().\n",
      "  if __name__ == '__main__':\n"
     ]
    },
    {
     "name": "stdout",
     "output_type": "stream",
     "text": [
      "The rmse of prediction is: 3.1236654986206323\n",
      "The R^2 of prediction is: 0.8706040300739829\n"
     ]
    },
    {
     "name": "stderr",
     "output_type": "stream",
     "text": [
      "/home/lin/anaconda3/envs/boost/lib/python3.7/site-packages/sklearn/utils/validation.py:761: DataConversionWarning: A column-vector y was passed when a 1d array was expected. Please change the shape of y to (n_samples, ), for example using ravel().\n",
      "  y = column_or_1d(y, warn=True)\n"
     ]
    },
    {
     "name": "stdout",
     "output_type": "stream",
     "text": [
      "The rmse of prediction is: 0.2721593682684476\n",
      "The R^2 of prediction is: 0.9990177132516642\n",
      "The rmse of prediction is: 0.06839615045745763\n",
      "The R^2 of prediction is: 0.9999379623944952\n",
      "The rmse of prediction is: 0.21573566660631308\n",
      "The R^2 of prediction is: 0.999382786224041\n"
     ]
    },
    {
     "name": "stderr",
     "output_type": "stream",
     "text": [
      "/home/lin/anaconda3/envs/boost/lib/python3.7/site-packages/sklearn/neural_network/multilayer_perceptron.py:1316: DataConversionWarning: A column-vector y was passed when a 1d array was expected. Please change the shape of y to (n_samples, ), for example using ravel().\n",
      "  y = column_or_1d(y, warn=True)\n"
     ]
    },
    {
     "name": "stdout",
     "output_type": "stream",
     "text": [
      "The rmse of prediction is: 6.320871657499846\n",
      "The R^2 of prediction is: 0.4701588882394159\n"
     ]
    }
   ],
   "source": [
    "#去头，尾变\n",
    "model_xgb.fit(train_ite_1_x,train_ite_1_y)\n",
    "y_pred_2 = pd.DataFrame(model_xgb.predict(df_test_2_x))\n",
    "\n",
    "train_ite_2_x = pd.concat([df_train_3_x,df_train_4_x,df_test_1_x,df_test_2_x])\n",
    "train_ite_2_y = pd.concat([df_train_3_y,df_train_4_y,df_test_1_y,y_pred_2])\n",
    "\n",
    "def rmse_test(model):\n",
    "    model = model.fit(train_ite_2_x,train_ite_2_y)\n",
    "    y_pred_3 = model.predict(df_test_3_x)\n",
    "    print('The rmse of prediction is:', mean_squared_error(df_test_3_y, y_pred_3) ** 0.5)\n",
    "    print('The R^2 of prediction is:', r2_score(df_test_3_y, y_pred_3))\n",
    "    \n",
    "rmse_test(lasso)\n",
    "rmse_test(model_svm)\n",
    "rmse_test(model_regr)\n",
    "rmse_test(GBoost)\n",
    "rmse_test(model_xgb)\n",
    "rmse_test(model_lgb)\n",
    "rmse_test(model_mlp)\n"
   ]
  },
  {
   "cell_type": "code",
   "execution_count": 30,
   "metadata": {},
   "outputs": [
    {
     "name": "stdout",
     "output_type": "stream",
     "text": [
      "The rmse of prediction is: 5.395193448357717\n",
      "The R^2 of prediction is: 0.6139836043779858\n",
      "The rmse of prediction is: 8.812237500630975\n",
      "The R^2 of prediction is: -0.029826577054551606\n",
      "The rmse of prediction is: 3.0855793092602712\n",
      "The R^2 of prediction is: 0.8737401886488094\n",
      "The rmse of prediction is: 0.26144520200042315\n",
      "The R^2 of prediction is: 0.9990935307815464\n",
      "The rmse of prediction is: 0.06338502516882535\n",
      "The R^2 of prediction is: 0.9999467198985593\n",
      "The rmse of prediction is: 0.21728482942110602\n",
      "The R^2 of prediction is: 0.9993738901738226\n",
      "The rmse of prediction is: 5.494311147907138\n",
      "The R^2 of prediction is: 0.5996699329020974\n"
     ]
    }
   ],
   "source": [
    "#去头，尾不变\n",
    "train_ite_2_x = pd.concat([df_train_3_x,df_train_4_x,df_test_1_x,df_test_2_x])\n",
    "train_ite_2_y = pd.concat([df_train_3_y,df_train_4_y,df_test_1_y,df_test_2_y])\n",
    "\n",
    "def rmse_test(model):\n",
    "    model = model.fit(train_ite_2_x,train_ite_2_y)\n",
    "    y_pred_3 = model.predict(df_test_3_x)\n",
    "    print('The rmse of prediction is:', mean_squared_error(df_test_3_y, y_pred_3) ** 0.5)\n",
    "    print('The R^2 of prediction is:', r2_score(df_test_3_y, y_pred_3))\n",
    "    \n",
    "rmse_test(lasso)\n",
    "rmse_test(model_svm)\n",
    "rmse_test(model_regr)\n",
    "rmse_test(GBoost)\n",
    "rmse_test(model_xgb)\n",
    "rmse_test(model_lgb)\n",
    "rmse_test(model_mlp)\n"
   ]
  },
  {
   "cell_type": "code",
   "execution_count": 31,
   "metadata": {},
   "outputs": [
    {
     "name": "stdout",
     "output_type": "stream",
     "text": [
      "The rmse of prediction is: 5.366871627345219\n",
      "The R^2 of prediction is: 0.6180257178066968\n"
     ]
    },
    {
     "name": "stderr",
     "output_type": "stream",
     "text": [
      "/home/lin/anaconda3/envs/boost/lib/python3.7/site-packages/sklearn/utils/validation.py:761: DataConversionWarning: A column-vector y was passed when a 1d array was expected. Please change the shape of y to (n_samples, ), for example using ravel().\n",
      "  y = column_or_1d(y, warn=True)\n"
     ]
    },
    {
     "name": "stdout",
     "output_type": "stream",
     "text": [
      "The rmse of prediction is: 8.795995893048985\n",
      "The R^2 of prediction is: -0.02603398170627136\n"
     ]
    },
    {
     "name": "stderr",
     "output_type": "stream",
     "text": [
      "/home/lin/anaconda3/envs/boost/lib/python3.7/site-packages/ipykernel_launcher.py:9: DataConversionWarning: A column-vector y was passed when a 1d array was expected. Please change the shape of y to (n_samples,), for example using ravel().\n",
      "  if __name__ == '__main__':\n"
     ]
    },
    {
     "name": "stdout",
     "output_type": "stream",
     "text": [
      "The rmse of prediction is: 3.0380815609547036\n",
      "The R^2 of prediction is: 0.8775974215449698\n"
     ]
    },
    {
     "name": "stderr",
     "output_type": "stream",
     "text": [
      "/home/lin/anaconda3/envs/boost/lib/python3.7/site-packages/sklearn/utils/validation.py:761: DataConversionWarning: A column-vector y was passed when a 1d array was expected. Please change the shape of y to (n_samples, ), for example using ravel().\n",
      "  y = column_or_1d(y, warn=True)\n"
     ]
    },
    {
     "name": "stdout",
     "output_type": "stream",
     "text": [
      "The rmse of prediction is: 0.23737332325287988\n",
      "The R^2 of prediction is: 0.9992527678853277\n",
      "The rmse of prediction is: 0.072531960967219\n",
      "The R^2 of prediction is: 0.9999302329199146\n",
      "The rmse of prediction is: 0.41804706785738854\n",
      "The R^2 of prediction is: 0.9976823808422118\n"
     ]
    },
    {
     "name": "stderr",
     "output_type": "stream",
     "text": [
      "/home/lin/anaconda3/envs/boost/lib/python3.7/site-packages/sklearn/neural_network/multilayer_perceptron.py:1316: DataConversionWarning: A column-vector y was passed when a 1d array was expected. Please change the shape of y to (n_samples, ), for example using ravel().\n",
      "  y = column_or_1d(y, warn=True)\n"
     ]
    },
    {
     "name": "stdout",
     "output_type": "stream",
     "text": [
      "The rmse of prediction is: 5.6499481823058195\n",
      "The R^2 of prediction is: 0.5766684484336685\n"
     ]
    }
   ],
   "source": [
    "#不去头，尾变\n",
    "model_xgb.fit(train_ite_1_x,train_ite_1_y)\n",
    "y_pred_2 = pd.DataFrame(model_xgb.predict(df_test_2_x))\n",
    "\n",
    "train_ite_2_x = pd.concat([df_train_1_x,df_train_2_x,df_train_3_x,df_train_4_x,df_test_1_x,df_test_2_x])\n",
    "train_ite_2_y = pd.concat([df_train_1_y,df_train_2_y,df_train_3_y,df_train_4_y,df_test_1_y,y_pred_2])\n",
    "\n",
    "def rmse_test(model):\n",
    "    model = model.fit(train_ite_2_x,train_ite_2_y)\n",
    "    y_pred_3 = model.predict(df_test_3_x)\n",
    "    print('The rmse of prediction is:', mean_squared_error(df_test_3_y, y_pred_3) ** 0.5)\n",
    "    print('The R^2 of prediction is:', r2_score(df_test_3_y, y_pred_3))\n",
    "    \n",
    "rmse_test(lasso)\n",
    "rmse_test(model_svm)\n",
    "rmse_test(model_regr)\n",
    "rmse_test(GBoost)\n",
    "rmse_test(model_xgb)\n",
    "rmse_test(model_lgb)\n",
    "rmse_test(model_mlp)\n"
   ]
  },
  {
   "cell_type": "code",
   "execution_count": 32,
   "metadata": {},
   "outputs": [
    {
     "name": "stdout",
     "output_type": "stream",
     "text": [
      "The rmse of prediction is: 5.3668860739415445\n",
      "The R^2 of prediction is: 0.6180236613998842\n",
      "The rmse of prediction is: 8.796015275707601\n",
      "The R^2 of prediction is: -0.026038503602040297\n",
      "The rmse of prediction is: 3.0001288208504526\n",
      "The R^2 of prediction is: 0.8806365082159325\n",
      "The rmse of prediction is: 0.23236728476502314\n",
      "The R^2 of prediction is: 0.9992839527596858\n",
      "The rmse of prediction is: 0.0676643830614822\n",
      "The R^2 of prediction is: 0.9999392827684039\n",
      "The rmse of prediction is: 0.4189075843906321\n",
      "The R^2 of prediction is: 0.9976728297540148\n",
      "The rmse of prediction is: 5.280645600150486\n",
      "The R^2 of prediction is: 0.6302009832093534\n"
     ]
    }
   ],
   "source": [
    "#不去头，尾不变\n",
    "model_xgb.fit(train_ite_1_x,train_ite_1_y)\n",
    "y_pred_2 = pd.DataFrame(model_xgb.predict(df_test_2_x))\n",
    "\n",
    "train_ite_2_x = pd.concat([df_train_1_x,df_train_2_x,df_train_3_x,df_train_4_x,df_test_1_x,df_test_2_x])\n",
    "train_ite_2_y = pd.concat([df_train_1_y,df_train_2_y,df_train_3_y,df_train_4_y,df_test_1_y,df_test_2_y])\n",
    "\n",
    "def rmse_test(model):\n",
    "    model = model.fit(train_ite_2_x,train_ite_2_y)\n",
    "    y_pred_3 = model.predict(df_test_3_x)\n",
    "    print('The rmse of prediction is:', mean_squared_error(df_test_3_y, y_pred_3) ** 0.5)\n",
    "    print('The R^2 of prediction is:', r2_score(df_test_3_y, y_pred_3))\n",
    "    \n",
    "rmse_test(lasso)\n",
    "rmse_test(model_svm)\n",
    "rmse_test(model_regr)\n",
    "rmse_test(GBoost)\n",
    "rmse_test(model_xgb)\n",
    "rmse_test(model_lgb)\n",
    "rmse_test(model_mlp)\n"
   ]
  },
  {
   "cell_type": "markdown",
   "metadata": {},
   "source": [
    "# 第三次迭代"
   ]
  },
  {
   "cell_type": "code",
   "execution_count": 33,
   "metadata": {},
   "outputs": [
    {
     "name": "stdout",
     "output_type": "stream",
     "text": [
      "The rmse of prediction is: 7.372474807508794\n",
      "The R^2 of prediction is: 0.6647851157189515\n"
     ]
    },
    {
     "name": "stderr",
     "output_type": "stream",
     "text": [
      "/home/lin/anaconda3/envs/boost/lib/python3.7/site-packages/sklearn/utils/validation.py:761: DataConversionWarning: A column-vector y was passed when a 1d array was expected. Please change the shape of y to (n_samples, ), for example using ravel().\n",
      "  y = column_or_1d(y, warn=True)\n"
     ]
    },
    {
     "name": "stdout",
     "output_type": "stream",
     "text": [
      "The rmse of prediction is: 13.368844092151667\n",
      "The R^2 of prediction is: -0.1022609370410581\n"
     ]
    },
    {
     "name": "stderr",
     "output_type": "stream",
     "text": [
      "/home/lin/anaconda3/envs/boost/lib/python3.7/site-packages/ipykernel_launcher.py:9: DataConversionWarning: A column-vector y was passed when a 1d array was expected. Please change the shape of y to (n_samples,), for example using ravel().\n",
      "  if __name__ == '__main__':\n"
     ]
    },
    {
     "name": "stdout",
     "output_type": "stream",
     "text": [
      "The rmse of prediction is: 3.705065386756964\n",
      "The R^2 of prediction is: 0.9153380137545167\n"
     ]
    },
    {
     "name": "stderr",
     "output_type": "stream",
     "text": [
      "/home/lin/anaconda3/envs/boost/lib/python3.7/site-packages/sklearn/utils/validation.py:761: DataConversionWarning: A column-vector y was passed when a 1d array was expected. Please change the shape of y to (n_samples, ), for example using ravel().\n",
      "  y = column_or_1d(y, warn=True)\n"
     ]
    },
    {
     "name": "stdout",
     "output_type": "stream",
     "text": [
      "The rmse of prediction is: 1.3227157385185033\n",
      "The R^2 of prediction is: 0.9892097938569255\n",
      "The rmse of prediction is: 0.45491971853016683\n",
      "The R^2 of prediction is: 0.9987236604611562\n",
      "The rmse of prediction is: 1.0028297821180236\n",
      "The R^2 of prediction is: 0.9937977231765872\n"
     ]
    },
    {
     "name": "stderr",
     "output_type": "stream",
     "text": [
      "/home/lin/anaconda3/envs/boost/lib/python3.7/site-packages/sklearn/neural_network/multilayer_perceptron.py:1316: DataConversionWarning: A column-vector y was passed when a 1d array was expected. Please change the shape of y to (n_samples, ), for example using ravel().\n",
      "  y = column_or_1d(y, warn=True)\n"
     ]
    },
    {
     "name": "stdout",
     "output_type": "stream",
     "text": [
      "The rmse of prediction is: 7.3054023329516635\n",
      "The R^2 of prediction is: 0.6708567314454257\n"
     ]
    }
   ],
   "source": [
    "#去头，尾变\n",
    "model_xgb.fit(train_ite_2_x,train_ite_2_y)\n",
    "y_pred_3 = pd.DataFrame(model_xgb.predict(df_test_3_x))\n",
    "\n",
    "train_ite_3_x = pd.concat([df_train_4_x,df_test_1_x,df_test_2_x,df_test_3_x])\n",
    "train_ite_3_y = pd.concat([df_train_4_y,df_test_1_y,df_test_2_y,y_pred_3])\n",
    "\n",
    "def rmse_test(model):\n",
    "    model = model.fit(train_ite_3_x,train_ite_3_y)\n",
    "    y_pred_4 = model.predict(df_test_4_x)\n",
    "    print('The rmse of prediction is:', mean_squared_error(df_test_4_y, y_pred_4) ** 0.5)\n",
    "    print('The R^2 of prediction is:', r2_score(df_test_4_y, y_pred_4))\n",
    "    \n",
    "rmse_test(lasso)\n",
    "rmse_test(model_svm)\n",
    "rmse_test(model_regr)\n",
    "rmse_test(GBoost)\n",
    "rmse_test(model_xgb)\n",
    "rmse_test(model_lgb)\n",
    "rmse_test(model_mlp)\n"
   ]
  },
  {
   "cell_type": "code",
   "execution_count": 34,
   "metadata": {},
   "outputs": [
    {
     "name": "stdout",
     "output_type": "stream",
     "text": [
      "The rmse of prediction is: 7.372015090345062\n",
      "The R^2 of prediction is: 0.6648269196545957\n",
      "The rmse of prediction is: 13.368913840283255\n",
      "The R^2 of prediction is: -0.10227243853526424\n",
      "The rmse of prediction is: 3.7028136411683437\n",
      "The R^2 of prediction is: 0.9154408887672174\n",
      "The rmse of prediction is: 1.4801488242722427\n",
      "The R^2 of prediction is: 0.9864883785685815\n",
      "The rmse of prediction is: 0.4969256142357611\n",
      "The R^2 of prediction is: 0.9984770716685633\n",
      "The rmse of prediction is: 1.003197958856109\n",
      "The R^2 of prediction is: 0.9937931681598214\n",
      "The rmse of prediction is: 7.926282053018385\n",
      "The R^2 of prediction is: 0.6125320861336122\n"
     ]
    }
   ],
   "source": [
    "#去头，尾不变\n",
    "train_ite_3_x = pd.concat([df_train_4_x,df_test_1_x,df_test_2_x,df_test_3_x])\n",
    "train_ite_3_y = pd.concat([df_train_4_y,df_test_1_y,df_test_2_y,df_test_3_y])\n",
    "\n",
    "def rmse_test(model):\n",
    "    model = model.fit(train_ite_3_x,train_ite_3_y)\n",
    "    y_pred_4 = model.predict(df_test_4_x)\n",
    "    print('The rmse of prediction is:', mean_squared_error(df_test_4_y, y_pred_4) ** 0.5)\n",
    "    print('The R^2 of prediction is:', r2_score(df_test_4_y, y_pred_4))\n",
    "    \n",
    "rmse_test(lasso)\n",
    "rmse_test(model_svm)\n",
    "rmse_test(model_regr)\n",
    "rmse_test(GBoost)\n",
    "rmse_test(model_xgb)\n",
    "rmse_test(model_lgb)\n",
    "rmse_test(model_mlp)\n"
   ]
  },
  {
   "cell_type": "code",
   "execution_count": 35,
   "metadata": {},
   "outputs": [
    {
     "name": "stdout",
     "output_type": "stream",
     "text": [
      "The rmse of prediction is: 7.268829406320332\n",
      "The R^2 of prediction is: 0.6741440522264741\n"
     ]
    },
    {
     "name": "stderr",
     "output_type": "stream",
     "text": [
      "/home/lin/anaconda3/envs/boost/lib/python3.7/site-packages/sklearn/utils/validation.py:761: DataConversionWarning: A column-vector y was passed when a 1d array was expected. Please change the shape of y to (n_samples, ), for example using ravel().\n",
      "  y = column_or_1d(y, warn=True)\n"
     ]
    },
    {
     "name": "stdout",
     "output_type": "stream",
     "text": [
      "The rmse of prediction is: 13.379396504146506\n",
      "The R^2 of prediction is: -0.10400171612353692\n"
     ]
    },
    {
     "name": "stderr",
     "output_type": "stream",
     "text": [
      "/home/lin/anaconda3/envs/boost/lib/python3.7/site-packages/ipykernel_launcher.py:9: DataConversionWarning: A column-vector y was passed when a 1d array was expected. Please change the shape of y to (n_samples,), for example using ravel().\n",
      "  if __name__ == '__main__':\n"
     ]
    },
    {
     "name": "stdout",
     "output_type": "stream",
     "text": [
      "The rmse of prediction is: 3.950801717986857\n",
      "The R^2 of prediction is: 0.9037352765506173\n"
     ]
    },
    {
     "name": "stderr",
     "output_type": "stream",
     "text": [
      "/home/lin/anaconda3/envs/boost/lib/python3.7/site-packages/sklearn/utils/validation.py:761: DataConversionWarning: A column-vector y was passed when a 1d array was expected. Please change the shape of y to (n_samples, ), for example using ravel().\n",
      "  y = column_or_1d(y, warn=True)\n"
     ]
    },
    {
     "name": "stdout",
     "output_type": "stream",
     "text": [
      "The rmse of prediction is: 0.948493482071433\n",
      "The R^2 of prediction is: 0.9944516301734828\n",
      "The rmse of prediction is: 0.24462571533238897\n",
      "The R^2 of prediction is: 0.9996309366522523\n",
      "The rmse of prediction is: 0.3599452710394791\n",
      "The R^2 of prediction is: 0.9992009579332726\n"
     ]
    },
    {
     "name": "stderr",
     "output_type": "stream",
     "text": [
      "/home/lin/anaconda3/envs/boost/lib/python3.7/site-packages/sklearn/neural_network/multilayer_perceptron.py:1316: DataConversionWarning: A column-vector y was passed when a 1d array was expected. Please change the shape of y to (n_samples, ), for example using ravel().\n",
      "  y = column_or_1d(y, warn=True)\n"
     ]
    },
    {
     "name": "stdout",
     "output_type": "stream",
     "text": [
      "The rmse of prediction is: 7.740573553259339\n",
      "The R^2 of prediction is: 0.6304757168155724\n"
     ]
    }
   ],
   "source": [
    "#不去头，尾变\n",
    "model_xgb.fit(train_ite_2_x,train_ite_2_y)\n",
    "y_pred_3 = pd.DataFrame(model_xgb.predict(df_test_3_x))\n",
    "\n",
    "train_ite_3_x = pd.concat([df_train_1_x,df_train_2_x,df_train_3_x,df_train_4_x,df_test_1_x,df_test_2_x,df_test_3_x])\n",
    "train_ite_3_y = pd.concat([df_train_1_y,df_train_2_y,df_train_3_y,df_train_4_y,df_test_1_y,df_test_2_y,y_pred_3])\n",
    "\n",
    "def rmse_test(model):\n",
    "    model = model.fit(train_ite_3_x,train_ite_3_y)\n",
    "    y_pred_4 = model.predict(df_test_4_x)\n",
    "    print('The rmse of prediction is:', mean_squared_error(df_test_4_y, y_pred_4) ** 0.5)\n",
    "    print('The R^2 of prediction is:', r2_score(df_test_4_y, y_pred_4))\n",
    "    \n",
    "rmse_test(lasso)\n",
    "rmse_test(model_svm)\n",
    "rmse_test(model_regr)\n",
    "rmse_test(GBoost)\n",
    "rmse_test(model_xgb)\n",
    "rmse_test(model_lgb)\n",
    "rmse_test(model_mlp)\n"
   ]
  },
  {
   "cell_type": "code",
   "execution_count": 36,
   "metadata": {},
   "outputs": [
    {
     "name": "stdout",
     "output_type": "stream",
     "text": [
      "The rmse of prediction is: 7.2687366041544905\n",
      "The R^2 of prediction is: 0.6741523726706544\n",
      "The rmse of prediction is: 13.379437984161157\n",
      "The R^2 of prediction is: -0.10400856158601068\n",
      "The rmse of prediction is: 3.9464734125931527\n",
      "The R^2 of prediction is: 0.9039460868689134\n",
      "The rmse of prediction is: 1.2321017283241018\n",
      "The R^2 of prediction is: 0.9906375430625091\n",
      "The rmse of prediction is: 0.24576622523168573\n",
      "The R^2 of prediction is: 0.9996274872878042\n",
      "The rmse of prediction is: 0.35475490506716045\n",
      "The R^2 of prediction is: 0.9992238359603536\n",
      "The rmse of prediction is: 7.390696599449096\n",
      "The R^2 of prediction is: 0.663126035271052\n"
     ]
    }
   ],
   "source": [
    "#不去头，尾不变\n",
    "model_xgb.fit(train_ite_2_x,train_ite_2_y)\n",
    "y_pred_3 = pd.DataFrame(model_xgb.predict(df_test_3_x))\n",
    "\n",
    "train_ite_3_x = pd.concat([df_train_1_x,df_train_2_x,df_train_3_x,df_train_4_x,df_test_1_x,df_test_2_x,df_test_3_x])\n",
    "train_ite_3_y = pd.concat([df_train_1_y,df_train_2_y,df_train_3_y,df_train_4_y,df_test_1_y,df_test_2_y,df_test_3_y])\n",
    "\n",
    "def rmse_test(model):\n",
    "    model = model.fit(train_ite_3_x,train_ite_3_y)\n",
    "    y_pred_4 = model.predict(df_test_4_x)\n",
    "    print('The rmse of prediction is:', mean_squared_error(df_test_4_y, y_pred_4) ** 0.5)\n",
    "    print('The R^2 of prediction is:', r2_score(df_test_4_y, y_pred_4))\n",
    "    \n",
    "rmse_test(lasso)\n",
    "rmse_test(model_svm)\n",
    "rmse_test(model_regr)\n",
    "rmse_test(GBoost)\n",
    "rmse_test(model_xgb)\n",
    "rmse_test(model_lgb)\n",
    "rmse_test(model_mlp)\n"
   ]
  },
  {
   "cell_type": "code",
   "execution_count": null,
   "metadata": {},
   "outputs": [],
   "source": []
  },
  {
   "cell_type": "code",
   "execution_count": null,
   "metadata": {},
   "outputs": [],
   "source": []
  },
  {
   "cell_type": "code",
   "execution_count": null,
   "metadata": {},
   "outputs": [],
   "source": []
  }
 ],
 "metadata": {
  "kernelspec": {
   "display_name": "Python 3",
   "language": "python",
   "name": "python3"
  },
  "language_info": {
   "codemirror_mode": {
    "name": "ipython",
    "version": 3
   },
   "file_extension": ".py",
   "mimetype": "text/x-python",
   "name": "python",
   "nbconvert_exporter": "python",
   "pygments_lexer": "ipython3",
   "version": "3.7.3"
  }
 },
 "nbformat": 4,
 "nbformat_minor": 2
}
