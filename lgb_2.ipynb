{
 "cells": [
  {
   "cell_type": "code",
   "execution_count": 1,
   "metadata": {},
   "outputs": [],
   "source": [
    "import numpy as np\n",
    "import pandas as pd\n",
    "#import matplotlib.pyplot as plt\n",
    "\n",
    "all_data = pd.read_csv('sales所在周次节假日_剔除换货.csv')\n",
    "all_data.rename(columns={'店铺名称':'store','地理位置指数':'position','年份':'years','周次':'weeks of year','是否包含法定节假日':'Isholiday','季节':'season','大类':'item','销量(剔除换货）':'sales','均价（剔除换货）':'prices','促销（剔除换货）':'discount'},inplace=True)\n",
    "all_data['weeks'] = all_data['weeks of year']"
   ]
  },
  {
   "cell_type": "code",
   "execution_count": 2,
   "metadata": {},
   "outputs": [
    {
     "name": "stderr",
     "output_type": "stream",
     "text": [
      "/home/lin/anaconda3/envs/boost/lib/python3.7/site-packages/ipykernel_launcher.py:4: SettingWithCopyWarning: \n",
      "A value is trying to be set on a copy of a slice from a DataFrame.\n",
      "Try using .loc[row_indexer,col_indexer] = value instead\n",
      "\n",
      "See the caveats in the documentation: http://pandas.pydata.org/pandas-docs/stable/indexing.html#indexing-view-versus-copy\n",
      "  after removing the cwd from sys.path.\n"
     ]
    }
   ],
   "source": [
    "a = all_data\n",
    "week_5 = a.loc[lambda a : a['years'] == 2015]\n",
    "week_6 = a.loc[lambda a : a['years'] == 2016]\n",
    "week_6['weeks'] += 53\n",
    "a = pd.concat([week_5,week_6])"
   ]
  },
  {
   "cell_type": "code",
   "execution_count": 3,
   "metadata": {},
   "outputs": [],
   "source": [
    "from sklearn import preprocessing\n",
    "\n",
    "#map店铺名称\n",
    "name = a['store']\n",
    "le = preprocessing.LabelEncoder()\n",
    "le.fit(name)\n",
    "list(name)\n",
    "le.transform(name)\n",
    "tmp = le.transform(name)\n",
    "a['store'] = tmp\n",
    "\n",
    "#map合并大类\n",
    "category = a['item']\n",
    "le.fit(category)\n",
    "list(category)\n",
    "le.transform(category)\n",
    "tmp = le.transform(category)\n",
    "a['item'] = tmp\n",
    "\n",
    "#map季节\n",
    "season = a['season']\n",
    "le.fit(season)\n",
    "list(season)\n",
    "le.transform(season)\n",
    "tmp = le.transform(season)\n",
    "a['season'] = tmp\n"
   ]
  },
  {
   "cell_type": "code",
   "execution_count": 4,
   "metadata": {},
   "outputs": [
    {
     "name": "stdout",
     "output_type": "stream",
     "text": [
      "Train shape: (8119, 12)\n",
      "Test shape: (340, 12)\n"
     ]
    }
   ],
   "source": [
    "df = a\n",
    "masked_series = (df['years']==2016) & (df['weeks'].isin([53,54,55]))\n",
    "masked_series2 = (df['years']==2016) & (~(df['weeks'].isin([53,54,55])))\n",
    "df.loc[(masked_series), 'train_or_test'] = 'test'\n",
    "df.loc[(masked_series2), 'train_or_test'] = 'no_train'\n",
    "print('Train shape: {}'.format(df.loc[df['years']==2015,:].shape))\n",
    "print('Test shape: {}'.format(df.loc[df.train_or_test=='test',:].shape))\n"
   ]
  },
  {
   "cell_type": "code",
   "execution_count": 5,
   "metadata": {},
   "outputs": [],
   "source": [
    "df_n = df.drop(['train_or_test'],axis=1)\n"
   ]
  },
  {
   "cell_type": "code",
   "execution_count": 6,
   "metadata": {},
   "outputs": [
    {
     "data": {
      "text/html": [
       "<div>\n",
       "<style scoped>\n",
       "    .dataframe tbody tr th:only-of-type {\n",
       "        vertical-align: middle;\n",
       "    }\n",
       "\n",
       "    .dataframe tbody tr th {\n",
       "        vertical-align: top;\n",
       "    }\n",
       "\n",
       "    .dataframe thead th {\n",
       "        text-align: right;\n",
       "    }\n",
       "</style>\n",
       "<table border=\"1\" class=\"dataframe\">\n",
       "  <thead>\n",
       "    <tr style=\"text-align: right;\">\n",
       "      <th></th>\n",
       "      <th>store</th>\n",
       "      <th>position</th>\n",
       "      <th>years</th>\n",
       "      <th>weeks of year</th>\n",
       "      <th>Isholiday</th>\n",
       "      <th>season</th>\n",
       "      <th>item</th>\n",
       "      <th>sales</th>\n",
       "      <th>prices</th>\n",
       "      <th>discount</th>\n",
       "      <th>weeks</th>\n",
       "    </tr>\n",
       "  </thead>\n",
       "  <tbody>\n",
       "    <tr>\n",
       "      <th>4769</th>\n",
       "      <td>7</td>\n",
       "      <td>7</td>\n",
       "      <td>2016</td>\n",
       "      <td>34</td>\n",
       "      <td>0</td>\n",
       "      <td>1</td>\n",
       "      <td>3</td>\n",
       "      <td>1.609438</td>\n",
       "      <td>1.609438</td>\n",
       "      <td>0.229287</td>\n",
       "      <td>87</td>\n",
       "    </tr>\n",
       "    <tr>\n",
       "      <th>17961</th>\n",
       "      <td>29</td>\n",
       "      <td>7</td>\n",
       "      <td>2016</td>\n",
       "      <td>24</td>\n",
       "      <td>1</td>\n",
       "      <td>3</td>\n",
       "      <td>7</td>\n",
       "      <td>1.386294</td>\n",
       "      <td>1.386294</td>\n",
       "      <td>0.328820</td>\n",
       "      <td>77</td>\n",
       "    </tr>\n",
       "  </tbody>\n",
       "</table>\n",
       "</div>"
      ],
      "text/plain": [
       "       store  position  years  weeks of year  Isholiday  season  item  \\\n",
       "4769       7         7   2016             34          0       1     3   \n",
       "17961     29         7   2016             24          1       3     7   \n",
       "\n",
       "          sales    prices  discount  weeks  \n",
       "4769   1.609438  1.609438  0.229287     87  \n",
       "17961  1.386294  1.386294  0.328820     77  "
      ]
     },
     "execution_count": 6,
     "metadata": {},
     "output_type": "execute_result"
    }
   ],
   "source": [
    "df_n['sales'] = np.log1p(df.sales.values)\n",
    "df_n['prices'] = np.log1p(df.sales.values)\n",
    "df_n.sample(2)"
   ]
  },
  {
   "cell_type": "code",
   "execution_count": 7,
   "metadata": {},
   "outputs": [
    {
     "data": {
      "text/plain": [
       "\"'\\ndef one_hot_encoder(df_n, ohe_cols=['store','item','weeks of years','isholiday','season','item']):\\n\\n#    One-Hot Encoder function\\n    print('Creating OHE features..\\nOld df shape:{}'.format(df.shape))\\n    df_n = pd.get_dummies(df_n, columns=ohe_cols)\\n    print('New df shape:{}'.format(df.shape))\\n    return df_n\\n\""
      ]
     },
     "execution_count": 7,
     "metadata": {},
     "output_type": "execute_result"
    }
   ],
   "source": [
    "''''\n",
    "def one_hot_encoder(df_n, ohe_cols=['store','item','weeks of years','isholiday','season','item']):\n",
    "\n",
    "#    One-Hot Encoder function\n",
    "    print('Creating OHE features..\\nOld df shape:{}'.format(df.shape))\n",
    "    df_n = pd.get_dummies(df_n, columns=ohe_cols)\n",
    "    print('New df shape:{}'.format(df.shape))\n",
    "    return df_n\n",
    "'''"
   ]
  },
  {
   "cell_type": "code",
   "execution_count": 8,
   "metadata": {},
   "outputs": [],
   "source": [
    "train = df_n[lambda df_n: df_n['years']==2015]\n",
    "t1 = df_n[lambda df_n: df_n['weeks']==54]\n",
    "t2 = df_n[lambda df_n: df_n['weeks']==55]\n",
    "t3 = df_n[lambda df_n: df_n['weeks']==56]\n",
    "test = pd.concat([t1,t2,t3])"
   ]
  },
  {
   "cell_type": "code",
   "execution_count": 9,
   "metadata": {},
   "outputs": [],
   "source": [
    "#train = one_hot_encoder(train, ohe_cols=['store','item','weeks of year','Isholiday','season','item']) "
   ]
  },
  {
   "cell_type": "code",
   "execution_count": 10,
   "metadata": {},
   "outputs": [],
   "source": [
    "y_train = train['sales']\n",
    "y_test = test['sales']\n",
    "X_train = train.drop('sales', axis=1)\n",
    "X_test = test.drop('sales', axis=1)"
   ]
  },
  {
   "cell_type": "code",
   "execution_count": 11,
   "metadata": {},
   "outputs": [],
   "source": [
    "import lightgbm as lgb\n",
    "# create dataset for lightgbm\n",
    "lgb_train = lgb.Dataset(X_train, y_train)\n",
    "lgb_eval = lgb.Dataset(X_test, y_test, reference=lgb_train)\n",
    "\n",
    "# specify your configurations as a dict\n",
    "params = {\n",
    "    'boosting_type': 'gbdt',\n",
    "    'objective': 'regression',\n",
    "    'metric': {'l2', 'l1'},\n",
    "    'num_leaves': 31,\n",
    "    'learning_rate': 0.05,\n",
    "    'feature_fraction': 0.9,\n",
    "    'bagging_fraction': 0.8,\n",
    "    'bagging_freq': 5,\n",
    "    'verbose': 0\n",
    "}"
   ]
  },
  {
   "cell_type": "code",
   "execution_count": 12,
   "metadata": {},
   "outputs": [
    {
     "name": "stdout",
     "output_type": "stream",
     "text": [
      "Starting training...\n",
      "[1]\tvalid_0's l1: 0.705466\tvalid_0's l2: 0.742124\n",
      "Training until validation scores don't improve for 5 rounds.\n",
      "[2]\tvalid_0's l1: 0.670139\tvalid_0's l2: 0.669488\n",
      "[3]\tvalid_0's l1: 0.636546\tvalid_0's l2: 0.603795\n",
      "[4]\tvalid_0's l1: 0.604659\tvalid_0's l2: 0.544624\n",
      "[5]\tvalid_0's l1: 0.574333\tvalid_0's l2: 0.491114\n",
      "[6]\tvalid_0's l1: 0.545544\tvalid_0's l2: 0.442906\n",
      "[7]\tvalid_0's l1: 0.518228\tvalid_0's l2: 0.399543\n",
      "[8]\tvalid_0's l1: 0.49222\tvalid_0's l2: 0.36023\n",
      "[9]\tvalid_0's l1: 0.467532\tvalid_0's l2: 0.324824\n",
      "[10]\tvalid_0's l1: 0.44404\tvalid_0's l2: 0.292794\n",
      "[11]\tvalid_0's l1: 0.421778\tvalid_0's l2: 0.264049\n",
      "[12]\tvalid_0's l1: 0.400616\tvalid_0's l2: 0.23808\n",
      "[13]\tvalid_0's l1: 0.38053\tvalid_0's l2: 0.214705\n",
      "[14]\tvalid_0's l1: 0.361419\tvalid_0's l2: 0.19355\n",
      "[15]\tvalid_0's l1: 0.343264\tvalid_0's l2: 0.174485\n",
      "[16]\tvalid_0's l1: 0.326067\tvalid_0's l2: 0.157381\n",
      "[17]\tvalid_0's l1: 0.309727\tvalid_0's l2: 0.141943\n",
      "[18]\tvalid_0's l1: 0.29421\tvalid_0's l2: 0.128041\n",
      "[19]\tvalid_0's l1: 0.279463\tvalid_0's l2: 0.115482\n",
      "[20]\tvalid_0's l1: 0.265431\tvalid_0's l2: 0.104121\n",
      "Did not meet early stopping. Best iteration is:\n",
      "[20]\tvalid_0's l1: 0.265431\tvalid_0's l2: 0.104121\n",
      "Saving model...\n",
      "Starting predicting...\n",
      "The rmse of prediction is: 0.3226781955366061\n"
     ]
    }
   ],
   "source": [
    "from sklearn.metrics import mean_squared_error\n",
    "print('Starting training...')\n",
    "# train\n",
    "gbm = lgb.train(params,\n",
    "                lgb_train,\n",
    "                num_boost_round=20,\n",
    "                valid_sets=lgb_eval,\n",
    "                early_stopping_rounds=5)\n",
    "\n",
    "print('Saving model...')\n",
    "# save model to file\n",
    "gbm.save_model('model.txt')\n",
    "\n",
    "print('Starting predicting...')\n",
    "# predict\n",
    "y_pred = gbm.predict(X_test, num_iteration=gbm.best_iteration)\n",
    "# eval\n",
    "print('The rmse of prediction is:', mean_squared_error(y_test, y_pred) ** 0.5)\n"
   ]
  },
  {
   "cell_type": "code",
   "execution_count": null,
   "metadata": {},
   "outputs": [],
   "source": []
  }
 ],
 "metadata": {
  "kernelspec": {
   "display_name": "Python 3",
   "language": "python",
   "name": "python3"
  },
  "language_info": {
   "codemirror_mode": {
    "name": "ipython",
    "version": 3
   },
   "file_extension": ".py",
   "mimetype": "text/x-python",
   "name": "python",
   "nbconvert_exporter": "python",
   "pygments_lexer": "ipython3",
   "version": "3.7.3"
  }
 },
 "nbformat": 4,
 "nbformat_minor": 2
}
