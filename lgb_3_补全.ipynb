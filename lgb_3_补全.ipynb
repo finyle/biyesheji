{
 "cells": [
  {
   "cell_type": "code",
   "execution_count": null,
   "metadata": {},
   "outputs": [],
   "source": [
    "import numpy as np\n",
    "import pandas as pd\n",
    "#import matplotlib.pyplot as plt\n",
    "\n",
    "all_data = pd.read_csv('sales所在周次节假日_剔除换货.csv')\n",
    "all_data.rename(columns={'店铺名称':'store','地理位置指数':'position','年份':'years','周次':'weeks','是否包含法定节假日':'Isholiday','季节':'season','大类':'item','销量(剔除换货）':'sales','均价（剔除换货）':'prices','促销（剔除换货）':'discount'},inplace=True)\n",
    "a = all_data\n",
    "week_5 = a.loc[lambda a : a['years'] == 2015]\n",
    "week_6 = a.loc[lambda a : a['years'] == 2016]\n",
    "week_6['weeks'] += 53\n",
    "a = pd.concat([week_5,week_6])\n"
   ]
  }
 ],
 "metadata": {
  "kernelspec": {
   "display_name": "Python 3",
   "language": "python",
   "name": "python3"
  },
  "language_info": {
   "codemirror_mode": {
    "name": "ipython",
    "version": 3
   },
   "file_extension": ".py",
   "mimetype": "text/x-python",
   "name": "python",
   "nbconvert_exporter": "python",
   "pygments_lexer": "ipython3",
   "version": "3.7.3"
  }
 },
 "nbformat": 4,
 "nbformat_minor": 2
}
